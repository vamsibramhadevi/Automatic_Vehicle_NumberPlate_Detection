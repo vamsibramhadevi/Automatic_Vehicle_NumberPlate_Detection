{
 "cells": [
  {
   "cell_type": "code",
   "execution_count": 1,
   "metadata": {},
   "outputs": [
    {
     "name": "stdout",
     "output_type": "stream",
     "text": [
      "Cloning into 'Automatic-License-Plate-Recognition-using-YOLOv8'...\n",
      "remote: Enumerating objects: 48, done.\u001b[K\n",
      "remote: Counting objects: 100% (16/16), done.\u001b[K\n",
      "remote: Compressing objects: 100% (6/6), done.\u001b[K\n",
      "remote: Total 48 (delta 10), reused 10 (delta 10), pack-reused 32\u001b[K\n",
      "Receiving objects: 100% (48/48), 5.38 MiB | 5.27 MiB/s, done.\n",
      "Resolving deltas: 100% (23/23), done.\n"
     ]
    }
   ],
   "source": [
    "!git clone https://github.com/Muhammad-Zeerak-Khan/Automatic-License-Plate-Recognition-using-YOLOv8.git"
   ]
  },
  {
   "cell_type": "code",
   "execution_count": 3,
   "metadata": {},
   "outputs": [
    {
     "name": "stdout",
     "output_type": "stream",
     "text": [
      "Cloning into 'sort'...\n",
      "remote: Enumerating objects: 205, done.\u001b[K\n",
      "remote: Counting objects: 100% (3/3), done.\u001b[K\n",
      "remote: Compressing objects: 100% (3/3), done.\u001b[K\n",
      "remote: Total 205 (delta 0), reused 0 (delta 0), pack-reused 202\u001b[K\n",
      "Receiving objects: 100% (205/205), 1.20 MiB | 2.94 MiB/s, done.\n",
      "Resolving deltas: 100% (72/72), done.\n"
     ]
    }
   ],
   "source": [
    "!git clone https://github.com/abewley/sort.git"
   ]
  },
  {
   "cell_type": "code",
   "execution_count": 5,
   "metadata": {},
   "outputs": [
    {
     "name": "stdout",
     "output_type": "stream",
     "text": [
      "Collecting ultralytics==8.0.114 (from -r Automatic-License-Plate-Recognition-using-YOLOv8/requirements.txt (line 1))\n",
      "  Downloading ultralytics-8.0.114-py3-none-any.whl.metadata (26 kB)\n",
      "Collecting pandas==2.0.2 (from -r Automatic-License-Plate-Recognition-using-YOLOv8/requirements.txt (line 2))\n",
      "  Downloading pandas-2.0.2-cp310-cp310-manylinux_2_17_x86_64.manylinux2014_x86_64.whl.metadata (18 kB)\n",
      "Collecting opencv-python==4.7.0.72 (from -r Automatic-License-Plate-Recognition-using-YOLOv8/requirements.txt (line 3))\n",
      "  Downloading opencv_python-4.7.0.72-cp37-abi3-manylinux_2_17_x86_64.manylinux2014_x86_64.whl (61.8 MB)\n",
      "\u001b[2K     \u001b[90m━━━━━━━━━━━━━━━━━━━━━━━━━━━━━━━━━━━━━━━━\u001b[0m \u001b[32m61.8/61.8 MB\u001b[0m \u001b[31m14.2 MB/s\u001b[0m eta \u001b[36m0:00:00\u001b[0m00:01\u001b[0m00:01\u001b[0m\n",
      "\u001b[?25hCollecting numpy==1.24.3 (from -r Automatic-License-Plate-Recognition-using-YOLOv8/requirements.txt (line 4))\n",
      "  Downloading numpy-1.24.3-cp310-cp310-manylinux_2_17_x86_64.manylinux2014_x86_64.whl (17.3 MB)\n",
      "\u001b[2K     \u001b[90m━━━━━━━━━━━━━━━━━━━━━━━━━━━━━━━━━━━━━━━━\u001b[0m \u001b[32m17.3/17.3 MB\u001b[0m \u001b[31m25.7 MB/s\u001b[0m eta \u001b[36m0:00:00\u001b[0m00:01\u001b[0m00:01\u001b[0m\n",
      "\u001b[?25hCollecting scipy==1.10.1 (from -r Automatic-License-Plate-Recognition-using-YOLOv8/requirements.txt (line 5))\n",
      "  Downloading scipy-1.10.1-cp310-cp310-manylinux_2_17_x86_64.manylinux2014_x86_64.whl (34.4 MB)\n",
      "\u001b[2K     \u001b[90m━━━━━━━━━━━━━━━━━━━━━━━━━━━━━━━━━━━━━━━━\u001b[0m \u001b[32m34.4/34.4 MB\u001b[0m \u001b[31m20.5 MB/s\u001b[0m eta \u001b[36m0:00:00\u001b[0m00:01\u001b[0m00:01\u001b[0m\n",
      "\u001b[?25hCollecting easyocr==1.7.0 (from -r Automatic-License-Plate-Recognition-using-YOLOv8/requirements.txt (line 6))\n",
      "  Downloading easyocr-1.7.0-py3-none-any.whl.metadata (14 kB)\n",
      "Collecting filterpy==1.4.5 (from -r Automatic-License-Plate-Recognition-using-YOLOv8/requirements.txt (line 7))\n",
      "  Using cached filterpy-1.4.5.zip (177 kB)\n",
      "  Installing build dependencies ... \u001b[?25ldone\n",
      "\u001b[?25h  Getting requirements to build wheel ... \u001b[?25ldone\n",
      "\u001b[?25h  Preparing metadata (pyproject.toml) ... \u001b[?25ldone\n",
      "\u001b[?25hRequirement already satisfied: matplotlib>=3.2.2 in /home/codespace/.local/lib/python3.10/site-packages (from ultralytics==8.0.114->-r Automatic-License-Plate-Recognition-using-YOLOv8/requirements.txt (line 1)) (3.8.0)\n",
      "Requirement already satisfied: Pillow>=7.1.2 in /home/codespace/.local/lib/python3.10/site-packages (from ultralytics==8.0.114->-r Automatic-License-Plate-Recognition-using-YOLOv8/requirements.txt (line 1)) (10.1.0)\n",
      "Requirement already satisfied: PyYAML>=5.3.1 in /home/codespace/.local/lib/python3.10/site-packages (from ultralytics==8.0.114->-r Automatic-License-Plate-Recognition-using-YOLOv8/requirements.txt (line 1)) (6.0.1)\n",
      "Requirement already satisfied: requests>=2.23.0 in /home/codespace/.local/lib/python3.10/site-packages (from ultralytics==8.0.114->-r Automatic-License-Plate-Recognition-using-YOLOv8/requirements.txt (line 1)) (2.31.0)\n",
      "Requirement already satisfied: torch>=1.7.0 in /home/codespace/.local/lib/python3.10/site-packages (from ultralytics==8.0.114->-r Automatic-License-Plate-Recognition-using-YOLOv8/requirements.txt (line 1)) (2.1.0)\n",
      "Collecting torchvision>=0.8.1 (from ultralytics==8.0.114->-r Automatic-License-Plate-Recognition-using-YOLOv8/requirements.txt (line 1))\n",
      "  Downloading torchvision-0.16.0-cp310-cp310-manylinux1_x86_64.whl.metadata (6.6 kB)\n",
      "Collecting tqdm>=4.64.0 (from ultralytics==8.0.114->-r Automatic-License-Plate-Recognition-using-YOLOv8/requirements.txt (line 1))\n",
      "  Downloading tqdm-4.66.1-py3-none-any.whl.metadata (57 kB)\n",
      "\u001b[2K     \u001b[90m━━━━━━━━━━━━━━━━━━━━━━━━━━━━━━━━━━━━━━━━\u001b[0m \u001b[32m57.6/57.6 kB\u001b[0m \u001b[31m1.3 MB/s\u001b[0m eta \u001b[36m0:00:00\u001b[0mta \u001b[36m0:00:01\u001b[0m\n",
      "\u001b[?25hRequirement already satisfied: seaborn>=0.11.0 in /home/codespace/.local/lib/python3.10/site-packages (from ultralytics==8.0.114->-r Automatic-License-Plate-Recognition-using-YOLOv8/requirements.txt (line 1)) (0.13.0)\n",
      "Requirement already satisfied: psutil in /home/codespace/.local/lib/python3.10/site-packages (from ultralytics==8.0.114->-r Automatic-License-Plate-Recognition-using-YOLOv8/requirements.txt (line 1)) (5.9.6)\n",
      "Requirement already satisfied: python-dateutil>=2.8.2 in /home/codespace/.local/lib/python3.10/site-packages (from pandas==2.0.2->-r Automatic-License-Plate-Recognition-using-YOLOv8/requirements.txt (line 2)) (2.8.2)\n",
      "Requirement already satisfied: pytz>=2020.1 in /home/codespace/.local/lib/python3.10/site-packages (from pandas==2.0.2->-r Automatic-License-Plate-Recognition-using-YOLOv8/requirements.txt (line 2)) (2023.3.post1)\n",
      "Requirement already satisfied: tzdata>=2022.1 in /home/codespace/.local/lib/python3.10/site-packages (from pandas==2.0.2->-r Automatic-License-Plate-Recognition-using-YOLOv8/requirements.txt (line 2)) (2023.3)\n",
      "Collecting opencv-python-headless (from easyocr==1.7.0->-r Automatic-License-Plate-Recognition-using-YOLOv8/requirements.txt (line 6))\n",
      "  Downloading opencv_python_headless-4.8.1.78-cp37-abi3-manylinux_2_17_x86_64.manylinux2014_x86_64.whl.metadata (19 kB)\n",
      "Collecting scikit-image (from easyocr==1.7.0->-r Automatic-License-Plate-Recognition-using-YOLOv8/requirements.txt (line 6))\n",
      "  Downloading scikit_image-0.22.0-cp310-cp310-manylinux_2_17_x86_64.manylinux2014_x86_64.whl.metadata (13 kB)\n",
      "Collecting python-bidi (from easyocr==1.7.0->-r Automatic-License-Plate-Recognition-using-YOLOv8/requirements.txt (line 6))\n",
      "  Downloading python_bidi-0.4.2-py2.py3-none-any.whl (30 kB)\n",
      "Collecting Shapely (from easyocr==1.7.0->-r Automatic-License-Plate-Recognition-using-YOLOv8/requirements.txt (line 6))\n",
      "  Downloading shapely-2.0.2-cp310-cp310-manylinux_2_17_x86_64.manylinux2014_x86_64.whl.metadata (7.0 kB)\n",
      "Collecting pyclipper (from easyocr==1.7.0->-r Automatic-License-Plate-Recognition-using-YOLOv8/requirements.txt (line 6))\n",
      "  Downloading pyclipper-1.3.0.post5-cp310-cp310-manylinux_2_12_x86_64.manylinux2010_x86_64.whl.metadata (9.0 kB)\n",
      "Collecting ninja (from easyocr==1.7.0->-r Automatic-License-Plate-Recognition-using-YOLOv8/requirements.txt (line 6))\n",
      "  Downloading ninja-1.11.1.1-py2.py3-none-manylinux1_x86_64.manylinux_2_5_x86_64.whl.metadata (5.3 kB)\n",
      "Requirement already satisfied: contourpy>=1.0.1 in /home/codespace/.local/lib/python3.10/site-packages (from matplotlib>=3.2.2->ultralytics==8.0.114->-r Automatic-License-Plate-Recognition-using-YOLOv8/requirements.txt (line 1)) (1.1.1)\n",
      "Requirement already satisfied: cycler>=0.10 in /home/codespace/.local/lib/python3.10/site-packages (from matplotlib>=3.2.2->ultralytics==8.0.114->-r Automatic-License-Plate-Recognition-using-YOLOv8/requirements.txt (line 1)) (0.12.1)\n",
      "Requirement already satisfied: fonttools>=4.22.0 in /home/codespace/.local/lib/python3.10/site-packages (from matplotlib>=3.2.2->ultralytics==8.0.114->-r Automatic-License-Plate-Recognition-using-YOLOv8/requirements.txt (line 1)) (4.43.1)\n",
      "Requirement already satisfied: kiwisolver>=1.0.1 in /home/codespace/.local/lib/python3.10/site-packages (from matplotlib>=3.2.2->ultralytics==8.0.114->-r Automatic-License-Plate-Recognition-using-YOLOv8/requirements.txt (line 1)) (1.4.5)\n",
      "Requirement already satisfied: packaging>=20.0 in /home/codespace/.local/lib/python3.10/site-packages (from matplotlib>=3.2.2->ultralytics==8.0.114->-r Automatic-License-Plate-Recognition-using-YOLOv8/requirements.txt (line 1)) (23.2)\n",
      "Requirement already satisfied: pyparsing>=2.3.1 in /home/codespace/.local/lib/python3.10/site-packages (from matplotlib>=3.2.2->ultralytics==8.0.114->-r Automatic-License-Plate-Recognition-using-YOLOv8/requirements.txt (line 1)) (3.1.1)\n",
      "Requirement already satisfied: six>=1.5 in /home/codespace/.local/lib/python3.10/site-packages (from python-dateutil>=2.8.2->pandas==2.0.2->-r Automatic-License-Plate-Recognition-using-YOLOv8/requirements.txt (line 2)) (1.16.0)\n",
      "Requirement already satisfied: charset-normalizer<4,>=2 in /home/codespace/.local/lib/python3.10/site-packages (from requests>=2.23.0->ultralytics==8.0.114->-r Automatic-License-Plate-Recognition-using-YOLOv8/requirements.txt (line 1)) (3.3.0)\n",
      "Requirement already satisfied: idna<4,>=2.5 in /home/codespace/.local/lib/python3.10/site-packages (from requests>=2.23.0->ultralytics==8.0.114->-r Automatic-License-Plate-Recognition-using-YOLOv8/requirements.txt (line 1)) (3.4)\n",
      "Requirement already satisfied: urllib3<3,>=1.21.1 in /home/codespace/.local/lib/python3.10/site-packages (from requests>=2.23.0->ultralytics==8.0.114->-r Automatic-License-Plate-Recognition-using-YOLOv8/requirements.txt (line 1)) (2.0.7)\n",
      "Requirement already satisfied: certifi>=2017.4.17 in /home/codespace/.local/lib/python3.10/site-packages (from requests>=2.23.0->ultralytics==8.0.114->-r Automatic-License-Plate-Recognition-using-YOLOv8/requirements.txt (line 1)) (2023.7.22)\n",
      "Requirement already satisfied: filelock in /home/codespace/.local/lib/python3.10/site-packages (from torch>=1.7.0->ultralytics==8.0.114->-r Automatic-License-Plate-Recognition-using-YOLOv8/requirements.txt (line 1)) (3.12.4)\n",
      "Requirement already satisfied: typing-extensions in /home/codespace/.local/lib/python3.10/site-packages (from torch>=1.7.0->ultralytics==8.0.114->-r Automatic-License-Plate-Recognition-using-YOLOv8/requirements.txt (line 1)) (4.8.0)\n",
      "Requirement already satisfied: sympy in /home/codespace/.local/lib/python3.10/site-packages (from torch>=1.7.0->ultralytics==8.0.114->-r Automatic-License-Plate-Recognition-using-YOLOv8/requirements.txt (line 1)) (1.12)\n",
      "Requirement already satisfied: networkx in /home/codespace/.local/lib/python3.10/site-packages (from torch>=1.7.0->ultralytics==8.0.114->-r Automatic-License-Plate-Recognition-using-YOLOv8/requirements.txt (line 1)) (3.1)\n",
      "Requirement already satisfied: jinja2 in /home/codespace/.local/lib/python3.10/site-packages (from torch>=1.7.0->ultralytics==8.0.114->-r Automatic-License-Plate-Recognition-using-YOLOv8/requirements.txt (line 1)) (3.1.2)\n",
      "Requirement already satisfied: fsspec in /home/codespace/.local/lib/python3.10/site-packages (from torch>=1.7.0->ultralytics==8.0.114->-r Automatic-License-Plate-Recognition-using-YOLOv8/requirements.txt (line 1)) (2023.9.2)\n",
      "Requirement already satisfied: nvidia-cuda-nvrtc-cu12==12.1.105 in /home/codespace/.local/lib/python3.10/site-packages (from torch>=1.7.0->ultralytics==8.0.114->-r Automatic-License-Plate-Recognition-using-YOLOv8/requirements.txt (line 1)) (12.1.105)\n",
      "Requirement already satisfied: nvidia-cuda-runtime-cu12==12.1.105 in /home/codespace/.local/lib/python3.10/site-packages (from torch>=1.7.0->ultralytics==8.0.114->-r Automatic-License-Plate-Recognition-using-YOLOv8/requirements.txt (line 1)) (12.1.105)\n",
      "Requirement already satisfied: nvidia-cuda-cupti-cu12==12.1.105 in /home/codespace/.local/lib/python3.10/site-packages (from torch>=1.7.0->ultralytics==8.0.114->-r Automatic-License-Plate-Recognition-using-YOLOv8/requirements.txt (line 1)) (12.1.105)\n",
      "Requirement already satisfied: nvidia-cudnn-cu12==8.9.2.26 in /home/codespace/.local/lib/python3.10/site-packages (from torch>=1.7.0->ultralytics==8.0.114->-r Automatic-License-Plate-Recognition-using-YOLOv8/requirements.txt (line 1)) (8.9.2.26)\n",
      "Requirement already satisfied: nvidia-cublas-cu12==12.1.3.1 in /home/codespace/.local/lib/python3.10/site-packages (from torch>=1.7.0->ultralytics==8.0.114->-r Automatic-License-Plate-Recognition-using-YOLOv8/requirements.txt (line 1)) (12.1.3.1)\n",
      "Requirement already satisfied: nvidia-cufft-cu12==11.0.2.54 in /home/codespace/.local/lib/python3.10/site-packages (from torch>=1.7.0->ultralytics==8.0.114->-r Automatic-License-Plate-Recognition-using-YOLOv8/requirements.txt (line 1)) (11.0.2.54)\n",
      "Requirement already satisfied: nvidia-curand-cu12==10.3.2.106 in /home/codespace/.local/lib/python3.10/site-packages (from torch>=1.7.0->ultralytics==8.0.114->-r Automatic-License-Plate-Recognition-using-YOLOv8/requirements.txt (line 1)) (10.3.2.106)\n",
      "Requirement already satisfied: nvidia-cusolver-cu12==11.4.5.107 in /home/codespace/.local/lib/python3.10/site-packages (from torch>=1.7.0->ultralytics==8.0.114->-r Automatic-License-Plate-Recognition-using-YOLOv8/requirements.txt (line 1)) (11.4.5.107)\n",
      "Requirement already satisfied: nvidia-cusparse-cu12==12.1.0.106 in /home/codespace/.local/lib/python3.10/site-packages (from torch>=1.7.0->ultralytics==8.0.114->-r Automatic-License-Plate-Recognition-using-YOLOv8/requirements.txt (line 1)) (12.1.0.106)\n",
      "Requirement already satisfied: nvidia-nccl-cu12==2.18.1 in /home/codespace/.local/lib/python3.10/site-packages (from torch>=1.7.0->ultralytics==8.0.114->-r Automatic-License-Plate-Recognition-using-YOLOv8/requirements.txt (line 1)) (2.18.1)\n",
      "Requirement already satisfied: nvidia-nvtx-cu12==12.1.105 in /home/codespace/.local/lib/python3.10/site-packages (from torch>=1.7.0->ultralytics==8.0.114->-r Automatic-License-Plate-Recognition-using-YOLOv8/requirements.txt (line 1)) (12.1.105)\n",
      "Requirement already satisfied: triton==2.1.0 in /home/codespace/.local/lib/python3.10/site-packages (from torch>=1.7.0->ultralytics==8.0.114->-r Automatic-License-Plate-Recognition-using-YOLOv8/requirements.txt (line 1)) (2.1.0)\n",
      "Requirement already satisfied: nvidia-nvjitlink-cu12 in /home/codespace/.local/lib/python3.10/site-packages (from nvidia-cusolver-cu12==11.4.5.107->torch>=1.7.0->ultralytics==8.0.114->-r Automatic-License-Plate-Recognition-using-YOLOv8/requirements.txt (line 1)) (12.2.140)\n",
      "Collecting imageio>=2.27 (from scikit-image->easyocr==1.7.0->-r Automatic-License-Plate-Recognition-using-YOLOv8/requirements.txt (line 6))\n",
      "  Downloading imageio-2.31.6-py3-none-any.whl.metadata (4.6 kB)\n",
      "Collecting tifffile>=2022.8.12 (from scikit-image->easyocr==1.7.0->-r Automatic-License-Plate-Recognition-using-YOLOv8/requirements.txt (line 6))\n",
      "  Downloading tifffile-2023.9.26-py3-none-any.whl.metadata (30 kB)\n",
      "Collecting lazy_loader>=0.3 (from scikit-image->easyocr==1.7.0->-r Automatic-License-Plate-Recognition-using-YOLOv8/requirements.txt (line 6))\n",
      "  Downloading lazy_loader-0.3-py3-none-any.whl.metadata (4.3 kB)\n",
      "Collecting Pillow>=7.1.2 (from ultralytics==8.0.114->-r Automatic-License-Plate-Recognition-using-YOLOv8/requirements.txt (line 1))\n",
      "  Downloading Pillow-10.0.1-cp310-cp310-manylinux_2_28_x86_64.whl.metadata (9.5 kB)\n",
      "Requirement already satisfied: MarkupSafe>=2.0 in /home/codespace/.local/lib/python3.10/site-packages (from jinja2->torch>=1.7.0->ultralytics==8.0.114->-r Automatic-License-Plate-Recognition-using-YOLOv8/requirements.txt (line 1)) (2.1.3)\n",
      "Requirement already satisfied: mpmath>=0.19 in /home/codespace/.local/lib/python3.10/site-packages (from sympy->torch>=1.7.0->ultralytics==8.0.114->-r Automatic-License-Plate-Recognition-using-YOLOv8/requirements.txt (line 1)) (1.3.0)\n",
      "Downloading ultralytics-8.0.114-py3-none-any.whl (595 kB)\n",
      "\u001b[2K   \u001b[90m━━━━━━━━━━━━━━━━━━━━━━━━━━━━━━━━━━━━━━━━\u001b[0m \u001b[32m595.4/595.4 kB\u001b[0m \u001b[31m13.1 MB/s\u001b[0m eta \u001b[36m0:00:00\u001b[0m00:01\u001b[0m\n",
      "\u001b[?25hDownloading pandas-2.0.2-cp310-cp310-manylinux_2_17_x86_64.manylinux2014_x86_64.whl (12.3 MB)\n",
      "\u001b[2K   \u001b[90m━━━━━━━━━━━━━━━━━━━━━━━━━━━━━━━━━━━━━━━━\u001b[0m \u001b[32m12.3/12.3 MB\u001b[0m \u001b[31m31.7 MB/s\u001b[0m eta \u001b[36m0:00:00\u001b[0m00:01\u001b[0m00:01\u001b[0m\n",
      "\u001b[?25hDownloading easyocr-1.7.0-py3-none-any.whl (2.9 MB)\n",
      "\u001b[2K   \u001b[90m━━━━━━━━━━━━━━━━━━━━━━━━━━━━━━━━━━━━━━━━\u001b[0m \u001b[32m2.9/2.9 MB\u001b[0m \u001b[31m36.5 MB/s\u001b[0m eta \u001b[36m0:00:00\u001b[0m:00:01\u001b[0m\n",
      "\u001b[?25hDownloading torchvision-0.16.0-cp310-cp310-manylinux1_x86_64.whl (6.9 MB)\n",
      "\u001b[2K   \u001b[90m━━━━━━━━━━━━━━━━━━━━━━━━━━━━━━━━━━━━━━━━\u001b[0m \u001b[32m6.9/6.9 MB\u001b[0m \u001b[31m33.3 MB/s\u001b[0m eta \u001b[36m0:00:00\u001b[0m00:01\u001b[0m00:01\u001b[0mm\n",
      "\u001b[?25hDownloading tqdm-4.66.1-py3-none-any.whl (78 kB)\n",
      "\u001b[2K   \u001b[90m━━━━━━━━━━━━━━━━━━━━━━━━━━━━━━━━━━━━━━━━\u001b[0m \u001b[32m78.3/78.3 kB\u001b[0m \u001b[31m1.9 MB/s\u001b[0m eta \u001b[36m0:00:00\u001b[0meta \u001b[36m0:00:01\u001b[0m\n",
      "\u001b[?25hDownloading ninja-1.11.1.1-py2.py3-none-manylinux1_x86_64.manylinux_2_5_x86_64.whl (307 kB)\n",
      "\u001b[2K   \u001b[90m━━━━━━━━━━━━━━━━━━━━━━━━━━━━━━━━━━━━━━━━\u001b[0m \u001b[32m307.2/307.2 kB\u001b[0m \u001b[31m7.0 MB/s\u001b[0m eta \u001b[36m0:00:00\u001b[0mta \u001b[36m0:00:01\u001b[0m\n",
      "\u001b[?25hDownloading opencv_python_headless-4.8.1.78-cp37-abi3-manylinux_2_17_x86_64.manylinux2014_x86_64.whl (49.1 MB)\n",
      "\u001b[2K   \u001b[90m━━━━━━━━━━━━━━━━━━━━━━━━━━━━━━━━━━━━━━━━\u001b[0m \u001b[32m49.1/49.1 MB\u001b[0m \u001b[31m17.3 MB/s\u001b[0m eta \u001b[36m0:00:00\u001b[0m00:01\u001b[0m00:01\u001b[0m\n",
      "\u001b[?25hDownloading pyclipper-1.3.0.post5-cp310-cp310-manylinux_2_12_x86_64.manylinux2010_x86_64.whl (908 kB)\n",
      "\u001b[2K   \u001b[90m━━━━━━━━━━━━━━━━━━━━━━━━━━━━━━━━━━━━━━━━\u001b[0m \u001b[32m908.3/908.3 kB\u001b[0m \u001b[31m16.3 MB/s\u001b[0m eta \u001b[36m0:00:00\u001b[0m00:01\u001b[0m\n",
      "\u001b[?25hDownloading scikit_image-0.22.0-cp310-cp310-manylinux_2_17_x86_64.manylinux2014_x86_64.whl (14.7 MB)\n",
      "\u001b[2K   \u001b[90m━━━━━━━━━━━━━━━━━━━━━━━━━━━━━━━━━━━━━━━━\u001b[0m \u001b[32m14.7/14.7 MB\u001b[0m \u001b[31m28.5 MB/s\u001b[0m eta \u001b[36m0:00:00\u001b[0m00:01\u001b[0m00:01\u001b[0m\n",
      "\u001b[?25hDownloading shapely-2.0.2-cp310-cp310-manylinux_2_17_x86_64.manylinux2014_x86_64.whl (2.5 MB)\n",
      "\u001b[2K   \u001b[90m━━━━━━━━━━━━━━━━━━━━━━━━━━━━━━━━━━━━━━━━\u001b[0m \u001b[32m2.5/2.5 MB\u001b[0m \u001b[31m32.8 MB/s\u001b[0m eta \u001b[36m0:00:00\u001b[0m:00:01\u001b[0m\n",
      "\u001b[?25hDownloading imageio-2.31.6-py3-none-any.whl (313 kB)\n",
      "\u001b[2K   \u001b[90m━━━━━━━━━━━━━━━━━━━━━━━━━━━━━━━━━━━━━━━━\u001b[0m \u001b[32m313.2/313.2 kB\u001b[0m \u001b[31m7.8 MB/s\u001b[0m eta \u001b[36m0:00:00\u001b[0m:00:01\u001b[0m\n",
      "\u001b[?25hDownloading Pillow-10.0.1-cp310-cp310-manylinux_2_28_x86_64.whl (3.6 MB)\n",
      "\u001b[2K   \u001b[90m━━━━━━━━━━━━━━━━━━━━━━━━━━━━━━━━━━━━━━━━\u001b[0m \u001b[32m3.6/3.6 MB\u001b[0m \u001b[31m27.8 MB/s\u001b[0m eta \u001b[36m0:00:00\u001b[0m00:01\u001b[0m:00:01\u001b[0m\n",
      "\u001b[?25hDownloading lazy_loader-0.3-py3-none-any.whl (9.1 kB)\n",
      "Downloading tifffile-2023.9.26-py3-none-any.whl (222 kB)\n",
      "\u001b[2K   \u001b[90m━━━━━━━━━━━━━━━━━━━━━━━━━━━━━━━━━━━━━━━━\u001b[0m \u001b[32m222.9/222.9 kB\u001b[0m \u001b[31m4.9 MB/s\u001b[0m eta \u001b[36m0:00:00\u001b[0mta \u001b[36m0:00:01\u001b[0m\n",
      "\u001b[?25hBuilding wheels for collected packages: filterpy\n",
      "  Building wheel for filterpy (pyproject.toml) ... \u001b[?25ldone\n",
      "\u001b[?25h  Created wheel for filterpy: filename=filterpy-1.4.5-py3-none-any.whl size=110459 sha256=62d00db346b019dec623e1f2f262c17c3728c77427967659035f8c918648c006\n",
      "  Stored in directory: /home/codespace/.cache/pip/wheels/0f/0c/ea/218f266af4ad626897562199fbbcba521b8497303200186102\n",
      "Successfully built filterpy\n",
      "Installing collected packages: pyclipper, ninja, tqdm, python-bidi, Pillow, numpy, lazy_loader, tifffile, Shapely, scipy, pandas, opencv-python-headless, opencv-python, imageio, scikit-image, torchvision, filterpy, ultralytics, easyocr\n",
      "  Attempting uninstall: Pillow\n",
      "    Found existing installation: Pillow 10.1.0\n",
      "    Uninstalling Pillow-10.1.0:\n",
      "      Successfully uninstalled Pillow-10.1.0\n",
      "  Attempting uninstall: numpy\n",
      "    Found existing installation: numpy 1.26.1\n",
      "    Uninstalling numpy-1.26.1:\n",
      "      Successfully uninstalled numpy-1.26.1\n",
      "  Attempting uninstall: scipy\n",
      "    Found existing installation: scipy 1.11.3\n",
      "    Uninstalling scipy-1.11.3:\n",
      "      Successfully uninstalled scipy-1.11.3\n",
      "  Attempting uninstall: pandas\n",
      "    Found existing installation: pandas 2.1.1\n",
      "    Uninstalling pandas-2.1.1:\n",
      "      Successfully uninstalled pandas-2.1.1\n",
      "Successfully installed Pillow-10.0.1 Shapely-2.0.2 easyocr-1.7.0 filterpy-1.4.5 imageio-2.31.6 lazy_loader-0.3 ninja-1.11.1.1 numpy-1.24.3 opencv-python-4.7.0.72 opencv-python-headless-4.8.1.78 pandas-2.0.2 pyclipper-1.3.0.post5 python-bidi-0.4.2 scikit-image-0.22.0 scipy-1.10.1 tifffile-2023.9.26 torchvision-0.16.0 tqdm-4.66.1 ultralytics-8.0.114\n",
      "\n",
      "\u001b[1m[\u001b[0m\u001b[34;49mnotice\u001b[0m\u001b[1;39;49m]\u001b[0m\u001b[39;49m A new release of pip is available: \u001b[0m\u001b[31;49m23.3\u001b[0m\u001b[39;49m -> \u001b[0m\u001b[32;49m23.3.1\u001b[0m\n",
      "\u001b[1m[\u001b[0m\u001b[34;49mnotice\u001b[0m\u001b[1;39;49m]\u001b[0m\u001b[39;49m To update, run: \u001b[0m\u001b[32;49mpython -m pip install --upgrade pip\u001b[0m\n"
     ]
    }
   ],
   "source": [
    "!pip install -r Automatic-License-Plate-Recognition-using-YOLOv8/requirements.txt"
   ]
  },
  {
   "cell_type": "code",
   "execution_count": 7,
   "metadata": {},
   "outputs": [],
   "source": [
    "# !pip install -r sort/requirements.txt"
   ]
  },
  {
   "cell_type": "code",
   "execution_count": 5,
   "metadata": {},
   "outputs": [],
   "source": [
    "from ultralytics import YOLO\n",
    "import string\n",
    "import cv2\n",
    "import numpy as np\n",
    "import matplotlib\n",
    "from sort.sort import *"
   ]
  },
  {
   "cell_type": "code",
   "execution_count": null,
   "metadata": {},
   "outputs": [],
   "source": [
    "coco_model=YOLO('yolov8n.pt')\n",
    "license_plate_detector = YOLO('Automatic-License-Plate-Recognition-using-YOLOv8/license_plate_detector.pt')"
   ]
  },
  {
   "cell_type": "code",
   "execution_count": 6,
   "metadata": {},
   "outputs": [],
   "source": [
    "foo = Sort()"
   ]
  }
 ],
 "metadata": {
  "kernelspec": {
   "display_name": "Python 3",
   "language": "python",
   "name": "python3"
  },
  "language_info": {
   "codemirror_mode": {
    "name": "ipython",
    "version": 3
   },
   "file_extension": ".py",
   "mimetype": "text/x-python",
   "name": "python",
   "nbconvert_exporter": "python",
   "pygments_lexer": "ipython3",
   "version": "3.10.8"
  }
 },
 "nbformat": 4,
 "nbformat_minor": 2
}
