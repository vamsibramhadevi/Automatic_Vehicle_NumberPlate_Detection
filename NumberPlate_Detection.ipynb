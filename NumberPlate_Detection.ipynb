{
  "cells": [
    {
      "cell_type": "markdown",
      "metadata": {
        "id": "view-in-github",
        "colab_type": "text"
      },
      "source": [
        "<a href=\"https://colab.research.google.com/github/vamsibramhadevi/Automatic_Vehicle_NumberPlate_Detection/blob/main/NumberPlate_Detection.ipynb\" target=\"_parent\"><img src=\"https://colab.research.google.com/assets/colab-badge.svg\" alt=\"Open In Colab\"/></a>"
      ]
    },
    {
      "cell_type": "code",
      "source": [
        "!git clone https://github.com/Muhammad-Zeerak-Khan/Automatic-License-Plate-Recognition-using-YOLOv8.git"
      ],
      "metadata": {
        "id": "L--92OmfYJ6x",
        "outputId": "a5e92066-833e-45a7-ea64-ae734e33c34c",
        "colab": {
          "base_uri": "https://localhost:8080/"
        }
      },
      "execution_count": 1,
      "outputs": [
        {
          "output_type": "stream",
          "name": "stdout",
          "text": [
            "Cloning into 'Automatic-License-Plate-Recognition-using-YOLOv8'...\n",
            "remote: Enumerating objects: 48, done.\u001b[K\n",
            "remote: Counting objects: 100% (16/16), done.\u001b[K\n",
            "remote: Compressing objects: 100% (6/6), done.\u001b[K\n",
            "remote: Total 48 (delta 10), reused 10 (delta 10), pack-reused 32\u001b[K\n",
            "Receiving objects: 100% (48/48), 5.38 MiB | 23.36 MiB/s, done.\n",
            "Resolving deltas: 100% (23/23), done.\n"
          ]
        }
      ]
    },
    {
      "cell_type": "code",
      "source": [
        "# !git clone https://github.com/abewley/sort.git"
      ],
      "metadata": {
        "id": "3OnK1JjWoWJx"
      },
      "execution_count": 49,
      "outputs": []
    },
    {
      "cell_type": "code",
      "source": [
        "!pip install -r /content/Automatic-License-Plate-Recognition-using-YOLOv8/requirements.txt"
      ],
      "metadata": {
        "id": "GALw_A_rYa8p",
        "outputId": "3511410d-4ab1-4917-9342-1f4750e0e788",
        "colab": {
          "base_uri": "https://localhost:8080/",
          "height": 1000
        }
      },
      "execution_count": 5,
      "outputs": [
        {
          "output_type": "stream",
          "name": "stdout",
          "text": [
            "Collecting ultralytics==8.0.114 (from -r /content/Automatic-License-Plate-Recognition-using-YOLOv8/requirements.txt (line 1))\n",
            "  Downloading ultralytics-8.0.114-py3-none-any.whl (595 kB)\n",
            "\u001b[2K     \u001b[90m━━━━━━━━━━━━━━━━━━━━━━━━━━━━━━━━━━━━━━━━\u001b[0m \u001b[32m595.4/595.4 kB\u001b[0m \u001b[31m8.2 MB/s\u001b[0m eta \u001b[36m0:00:00\u001b[0m\n",
            "\u001b[?25hCollecting pandas==2.0.2 (from -r /content/Automatic-License-Plate-Recognition-using-YOLOv8/requirements.txt (line 2))\n",
            "  Downloading pandas-2.0.2-cp310-cp310-manylinux_2_17_x86_64.manylinux2014_x86_64.whl (12.3 MB)\n",
            "\u001b[2K     \u001b[90m━━━━━━━━━━━━━━━━━━━━━━━━━━━━━━━━━━━━━━━━\u001b[0m \u001b[32m12.3/12.3 MB\u001b[0m \u001b[31m61.8 MB/s\u001b[0m eta \u001b[36m0:00:00\u001b[0m\n",
            "\u001b[?25hCollecting opencv-python==4.7.0.72 (from -r /content/Automatic-License-Plate-Recognition-using-YOLOv8/requirements.txt (line 3))\n",
            "  Downloading opencv_python-4.7.0.72-cp37-abi3-manylinux_2_17_x86_64.manylinux2014_x86_64.whl (61.8 MB)\n",
            "\u001b[2K     \u001b[90m━━━━━━━━━━━━━━━━━━━━━━━━━━━━━━━━━━━━━━━━\u001b[0m \u001b[32m61.8/61.8 MB\u001b[0m \u001b[31m9.9 MB/s\u001b[0m eta \u001b[36m0:00:00\u001b[0m\n",
            "\u001b[?25hCollecting numpy==1.24.3 (from -r /content/Automatic-License-Plate-Recognition-using-YOLOv8/requirements.txt (line 4))\n",
            "  Downloading numpy-1.24.3-cp310-cp310-manylinux_2_17_x86_64.manylinux2014_x86_64.whl (17.3 MB)\n",
            "\u001b[2K     \u001b[90m━━━━━━━━━━━━━━━━━━━━━━━━━━━━━━━━━━━━━━━━\u001b[0m \u001b[32m17.3/17.3 MB\u001b[0m \u001b[31m66.0 MB/s\u001b[0m eta \u001b[36m0:00:00\u001b[0m\n",
            "\u001b[?25hCollecting scipy==1.10.1 (from -r /content/Automatic-License-Plate-Recognition-using-YOLOv8/requirements.txt (line 5))\n",
            "  Downloading scipy-1.10.1-cp310-cp310-manylinux_2_17_x86_64.manylinux2014_x86_64.whl (34.4 MB)\n",
            "\u001b[2K     \u001b[90m━━━━━━━━━━━━━━━━━━━━━━━━━━━━━━━━━━━━━━━━\u001b[0m \u001b[32m34.4/34.4 MB\u001b[0m \u001b[31m39.8 MB/s\u001b[0m eta \u001b[36m0:00:00\u001b[0m\n",
            "\u001b[?25hCollecting easyocr==1.7.0 (from -r /content/Automatic-License-Plate-Recognition-using-YOLOv8/requirements.txt (line 6))\n",
            "  Downloading easyocr-1.7.0-py3-none-any.whl (2.9 MB)\n",
            "\u001b[2K     \u001b[90m━━━━━━━━━━━━━━━━━━━━━━━━━━━━━━━━━━━━━━━━\u001b[0m \u001b[32m2.9/2.9 MB\u001b[0m \u001b[31m93.3 MB/s\u001b[0m eta \u001b[36m0:00:00\u001b[0m\n",
            "\u001b[?25hCollecting filterpy==1.4.5 (from -r /content/Automatic-License-Plate-Recognition-using-YOLOv8/requirements.txt (line 7))\n",
            "  Downloading filterpy-1.4.5.zip (177 kB)\n",
            "\u001b[2K     \u001b[90m━━━━━━━━━━━━━━━━━━━━━━━━━━━━━━━━━━━━━━━━\u001b[0m \u001b[32m178.0/178.0 kB\u001b[0m \u001b[31m22.2 MB/s\u001b[0m eta \u001b[36m0:00:00\u001b[0m\n",
            "\u001b[?25h  Preparing metadata (setup.py) ... \u001b[?25l\u001b[?25hdone\n",
            "Requirement already satisfied: matplotlib>=3.2.2 in /usr/local/lib/python3.10/dist-packages (from ultralytics==8.0.114->-r /content/Automatic-License-Plate-Recognition-using-YOLOv8/requirements.txt (line 1)) (3.7.1)\n",
            "Requirement already satisfied: Pillow>=7.1.2 in /usr/local/lib/python3.10/dist-packages (from ultralytics==8.0.114->-r /content/Automatic-License-Plate-Recognition-using-YOLOv8/requirements.txt (line 1)) (9.4.0)\n",
            "Requirement already satisfied: PyYAML>=5.3.1 in /usr/local/lib/python3.10/dist-packages (from ultralytics==8.0.114->-r /content/Automatic-License-Plate-Recognition-using-YOLOv8/requirements.txt (line 1)) (6.0.1)\n",
            "Requirement already satisfied: requests>=2.23.0 in /usr/local/lib/python3.10/dist-packages (from ultralytics==8.0.114->-r /content/Automatic-License-Plate-Recognition-using-YOLOv8/requirements.txt (line 1)) (2.31.0)\n",
            "Requirement already satisfied: torch>=1.7.0 in /usr/local/lib/python3.10/dist-packages (from ultralytics==8.0.114->-r /content/Automatic-License-Plate-Recognition-using-YOLOv8/requirements.txt (line 1)) (2.1.0+cu118)\n",
            "Requirement already satisfied: torchvision>=0.8.1 in /usr/local/lib/python3.10/dist-packages (from ultralytics==8.0.114->-r /content/Automatic-License-Plate-Recognition-using-YOLOv8/requirements.txt (line 1)) (0.16.0+cu118)\n",
            "Requirement already satisfied: tqdm>=4.64.0 in /usr/local/lib/python3.10/dist-packages (from ultralytics==8.0.114->-r /content/Automatic-License-Plate-Recognition-using-YOLOv8/requirements.txt (line 1)) (4.66.1)\n",
            "Requirement already satisfied: seaborn>=0.11.0 in /usr/local/lib/python3.10/dist-packages (from ultralytics==8.0.114->-r /content/Automatic-License-Plate-Recognition-using-YOLOv8/requirements.txt (line 1)) (0.12.2)\n",
            "Requirement already satisfied: psutil in /usr/local/lib/python3.10/dist-packages (from ultralytics==8.0.114->-r /content/Automatic-License-Plate-Recognition-using-YOLOv8/requirements.txt (line 1)) (5.9.5)\n",
            "Requirement already satisfied: python-dateutil>=2.8.2 in /usr/local/lib/python3.10/dist-packages (from pandas==2.0.2->-r /content/Automatic-License-Plate-Recognition-using-YOLOv8/requirements.txt (line 2)) (2.8.2)\n",
            "Requirement already satisfied: pytz>=2020.1 in /usr/local/lib/python3.10/dist-packages (from pandas==2.0.2->-r /content/Automatic-License-Plate-Recognition-using-YOLOv8/requirements.txt (line 2)) (2023.3.post1)\n",
            "Collecting tzdata>=2022.1 (from pandas==2.0.2->-r /content/Automatic-License-Plate-Recognition-using-YOLOv8/requirements.txt (line 2))\n",
            "  Downloading tzdata-2023.3-py2.py3-none-any.whl (341 kB)\n",
            "\u001b[2K     \u001b[90m━━━━━━━━━━━━━━━━━━━━━━━━━━━━━━━━━━━━━━━━\u001b[0m \u001b[32m341.8/341.8 kB\u001b[0m \u001b[31m33.2 MB/s\u001b[0m eta \u001b[36m0:00:00\u001b[0m\n",
            "\u001b[?25hRequirement already satisfied: opencv-python-headless in /usr/local/lib/python3.10/dist-packages (from easyocr==1.7.0->-r /content/Automatic-License-Plate-Recognition-using-YOLOv8/requirements.txt (line 6)) (4.8.1.78)\n",
            "Requirement already satisfied: scikit-image in /usr/local/lib/python3.10/dist-packages (from easyocr==1.7.0->-r /content/Automatic-License-Plate-Recognition-using-YOLOv8/requirements.txt (line 6)) (0.19.3)\n",
            "Collecting python-bidi (from easyocr==1.7.0->-r /content/Automatic-License-Plate-Recognition-using-YOLOv8/requirements.txt (line 6))\n",
            "  Downloading python_bidi-0.4.2-py2.py3-none-any.whl (30 kB)\n",
            "Requirement already satisfied: Shapely in /usr/local/lib/python3.10/dist-packages (from easyocr==1.7.0->-r /content/Automatic-License-Plate-Recognition-using-YOLOv8/requirements.txt (line 6)) (2.0.2)\n",
            "Collecting pyclipper (from easyocr==1.7.0->-r /content/Automatic-License-Plate-Recognition-using-YOLOv8/requirements.txt (line 6))\n",
            "  Downloading pyclipper-1.3.0.post5-cp310-cp310-manylinux_2_12_x86_64.manylinux2010_x86_64.whl (908 kB)\n",
            "\u001b[2K     \u001b[90m━━━━━━━━━━━━━━━━━━━━━━━━━━━━━━━━━━━━━━━━\u001b[0m \u001b[32m908.3/908.3 kB\u001b[0m \u001b[31m51.4 MB/s\u001b[0m eta \u001b[36m0:00:00\u001b[0m\n",
            "\u001b[?25hCollecting ninja (from easyocr==1.7.0->-r /content/Automatic-License-Plate-Recognition-using-YOLOv8/requirements.txt (line 6))\n",
            "  Downloading ninja-1.11.1.1-py2.py3-none-manylinux1_x86_64.manylinux_2_5_x86_64.whl (307 kB)\n",
            "\u001b[2K     \u001b[90m━━━━━━━━━━━━━━━━━━━━━━━━━━━━━━━━━━━━━━━━\u001b[0m \u001b[32m307.2/307.2 kB\u001b[0m \u001b[31m27.0 MB/s\u001b[0m eta \u001b[36m0:00:00\u001b[0m\n",
            "\u001b[?25hRequirement already satisfied: contourpy>=1.0.1 in /usr/local/lib/python3.10/dist-packages (from matplotlib>=3.2.2->ultralytics==8.0.114->-r /content/Automatic-License-Plate-Recognition-using-YOLOv8/requirements.txt (line 1)) (1.1.1)\n",
            "Requirement already satisfied: cycler>=0.10 in /usr/local/lib/python3.10/dist-packages (from matplotlib>=3.2.2->ultralytics==8.0.114->-r /content/Automatic-License-Plate-Recognition-using-YOLOv8/requirements.txt (line 1)) (0.12.1)\n",
            "Requirement already satisfied: fonttools>=4.22.0 in /usr/local/lib/python3.10/dist-packages (from matplotlib>=3.2.2->ultralytics==8.0.114->-r /content/Automatic-License-Plate-Recognition-using-YOLOv8/requirements.txt (line 1)) (4.43.1)\n",
            "Requirement already satisfied: kiwisolver>=1.0.1 in /usr/local/lib/python3.10/dist-packages (from matplotlib>=3.2.2->ultralytics==8.0.114->-r /content/Automatic-License-Plate-Recognition-using-YOLOv8/requirements.txt (line 1)) (1.4.5)\n",
            "Requirement already satisfied: packaging>=20.0 in /usr/local/lib/python3.10/dist-packages (from matplotlib>=3.2.2->ultralytics==8.0.114->-r /content/Automatic-License-Plate-Recognition-using-YOLOv8/requirements.txt (line 1)) (23.2)\n",
            "Requirement already satisfied: pyparsing>=2.3.1 in /usr/local/lib/python3.10/dist-packages (from matplotlib>=3.2.2->ultralytics==8.0.114->-r /content/Automatic-License-Plate-Recognition-using-YOLOv8/requirements.txt (line 1)) (3.1.1)\n",
            "Requirement already satisfied: six>=1.5 in /usr/local/lib/python3.10/dist-packages (from python-dateutil>=2.8.2->pandas==2.0.2->-r /content/Automatic-License-Plate-Recognition-using-YOLOv8/requirements.txt (line 2)) (1.16.0)\n",
            "Requirement already satisfied: charset-normalizer<4,>=2 in /usr/local/lib/python3.10/dist-packages (from requests>=2.23.0->ultralytics==8.0.114->-r /content/Automatic-License-Plate-Recognition-using-YOLOv8/requirements.txt (line 1)) (3.3.1)\n",
            "Requirement already satisfied: idna<4,>=2.5 in /usr/local/lib/python3.10/dist-packages (from requests>=2.23.0->ultralytics==8.0.114->-r /content/Automatic-License-Plate-Recognition-using-YOLOv8/requirements.txt (line 1)) (3.4)\n",
            "Requirement already satisfied: urllib3<3,>=1.21.1 in /usr/local/lib/python3.10/dist-packages (from requests>=2.23.0->ultralytics==8.0.114->-r /content/Automatic-License-Plate-Recognition-using-YOLOv8/requirements.txt (line 1)) (2.0.7)\n",
            "Requirement already satisfied: certifi>=2017.4.17 in /usr/local/lib/python3.10/dist-packages (from requests>=2.23.0->ultralytics==8.0.114->-r /content/Automatic-License-Plate-Recognition-using-YOLOv8/requirements.txt (line 1)) (2023.7.22)\n",
            "Requirement already satisfied: filelock in /usr/local/lib/python3.10/dist-packages (from torch>=1.7.0->ultralytics==8.0.114->-r /content/Automatic-License-Plate-Recognition-using-YOLOv8/requirements.txt (line 1)) (3.12.4)\n",
            "Requirement already satisfied: typing-extensions in /usr/local/lib/python3.10/dist-packages (from torch>=1.7.0->ultralytics==8.0.114->-r /content/Automatic-License-Plate-Recognition-using-YOLOv8/requirements.txt (line 1)) (4.5.0)\n",
            "Requirement already satisfied: sympy in /usr/local/lib/python3.10/dist-packages (from torch>=1.7.0->ultralytics==8.0.114->-r /content/Automatic-License-Plate-Recognition-using-YOLOv8/requirements.txt (line 1)) (1.12)\n",
            "Requirement already satisfied: networkx in /usr/local/lib/python3.10/dist-packages (from torch>=1.7.0->ultralytics==8.0.114->-r /content/Automatic-License-Plate-Recognition-using-YOLOv8/requirements.txt (line 1)) (3.2)\n",
            "Requirement already satisfied: jinja2 in /usr/local/lib/python3.10/dist-packages (from torch>=1.7.0->ultralytics==8.0.114->-r /content/Automatic-License-Plate-Recognition-using-YOLOv8/requirements.txt (line 1)) (3.1.2)\n",
            "Requirement already satisfied: fsspec in /usr/local/lib/python3.10/dist-packages (from torch>=1.7.0->ultralytics==8.0.114->-r /content/Automatic-License-Plate-Recognition-using-YOLOv8/requirements.txt (line 1)) (2023.6.0)\n",
            "Requirement already satisfied: triton==2.1.0 in /usr/local/lib/python3.10/dist-packages (from torch>=1.7.0->ultralytics==8.0.114->-r /content/Automatic-License-Plate-Recognition-using-YOLOv8/requirements.txt (line 1)) (2.1.0)\n",
            "Requirement already satisfied: imageio>=2.4.1 in /usr/local/lib/python3.10/dist-packages (from scikit-image->easyocr==1.7.0->-r /content/Automatic-License-Plate-Recognition-using-YOLOv8/requirements.txt (line 6)) (2.31.6)\n",
            "Requirement already satisfied: tifffile>=2019.7.26 in /usr/local/lib/python3.10/dist-packages (from scikit-image->easyocr==1.7.0->-r /content/Automatic-License-Plate-Recognition-using-YOLOv8/requirements.txt (line 6)) (2023.9.26)\n",
            "Requirement already satisfied: PyWavelets>=1.1.1 in /usr/local/lib/python3.10/dist-packages (from scikit-image->easyocr==1.7.0->-r /content/Automatic-License-Plate-Recognition-using-YOLOv8/requirements.txt (line 6)) (1.4.1)\n",
            "Requirement already satisfied: MarkupSafe>=2.0 in /usr/local/lib/python3.10/dist-packages (from jinja2->torch>=1.7.0->ultralytics==8.0.114->-r /content/Automatic-License-Plate-Recognition-using-YOLOv8/requirements.txt (line 1)) (2.1.3)\n",
            "Requirement already satisfied: mpmath>=0.19 in /usr/local/lib/python3.10/dist-packages (from sympy->torch>=1.7.0->ultralytics==8.0.114->-r /content/Automatic-License-Plate-Recognition-using-YOLOv8/requirements.txt (line 1)) (1.3.0)\n",
            "Building wheels for collected packages: filterpy\n",
            "  Building wheel for filterpy (setup.py) ... \u001b[?25l\u001b[?25hdone\n",
            "  Created wheel for filterpy: filename=filterpy-1.4.5-py3-none-any.whl size=110459 sha256=5a2ed2ceadb64702ece2d11bf20f6b78c78ba603862895116c8401d72c1652cf\n",
            "  Stored in directory: /root/.cache/pip/wheels/0f/0c/ea/218f266af4ad626897562199fbbcba521b8497303200186102\n",
            "Successfully built filterpy\n",
            "Installing collected packages: pyclipper, ninja, tzdata, python-bidi, numpy, scipy, pandas, opencv-python, filterpy, easyocr, ultralytics\n",
            "  Attempting uninstall: numpy\n",
            "    Found existing installation: numpy 1.23.5\n",
            "    Uninstalling numpy-1.23.5:\n",
            "      Successfully uninstalled numpy-1.23.5\n",
            "  Attempting uninstall: scipy\n",
            "    Found existing installation: scipy 1.11.3\n",
            "    Uninstalling scipy-1.11.3:\n",
            "      Successfully uninstalled scipy-1.11.3\n",
            "  Attempting uninstall: pandas\n",
            "    Found existing installation: pandas 1.5.3\n",
            "    Uninstalling pandas-1.5.3:\n",
            "      Successfully uninstalled pandas-1.5.3\n",
            "  Attempting uninstall: opencv-python\n",
            "    Found existing installation: opencv-python 4.8.0.76\n",
            "    Uninstalling opencv-python-4.8.0.76:\n",
            "      Successfully uninstalled opencv-python-4.8.0.76\n",
            "\u001b[31mERROR: pip's dependency resolver does not currently take into account all the packages that are installed. This behaviour is the source of the following dependency conflicts.\n",
            "lida 0.0.10 requires fastapi, which is not installed.\n",
            "lida 0.0.10 requires kaleido, which is not installed.\n",
            "lida 0.0.10 requires python-multipart, which is not installed.\n",
            "lida 0.0.10 requires uvicorn, which is not installed.\n",
            "google-colab 1.0.0 requires pandas==1.5.3, but you have pandas 2.0.2 which is incompatible.\n",
            "numba 0.56.4 requires numpy<1.24,>=1.18, but you have numpy 1.24.3 which is incompatible.\u001b[0m\u001b[31m\n",
            "\u001b[0mSuccessfully installed easyocr-1.7.0 filterpy-1.4.5 ninja-1.11.1.1 numpy-1.24.3 opencv-python-4.7.0.72 pandas-2.0.2 pyclipper-1.3.0.post5 python-bidi-0.4.2 scipy-1.10.1 tzdata-2023.3 ultralytics-8.0.114\n"
          ]
        },
        {
          "output_type": "display_data",
          "data": {
            "application/vnd.colab-display-data+json": {
              "pip_warning": {
                "packages": [
                  "numpy",
                  "pandas"
                ]
              }
            }
          },
          "metadata": {}
        }
      ]
    },
    {
      "cell_type": "code",
      "source": [
        "# !pip install -r /content/Automatic-License-Plate-Recognition-using-YOLOv8/sort/requirements.txt"
      ],
      "metadata": {
        "id": "6N2EVrvCqSCj"
      },
      "execution_count": 50,
      "outputs": []
    },
    {
      "cell_type": "code",
      "source": [
        "from ultralytics import YOLO\n",
        "import string\n",
        "import cv2\n",
        "import numpy as np\n",
        "import matplotlib"
      ],
      "metadata": {
        "id": "DYCmIAD4ZQ3n"
      },
      "execution_count": 51,
      "outputs": []
    },
    {
      "cell_type": "markdown",
      "source": [
        "#Load Models"
      ],
      "metadata": {
        "id": "OoJbzQNWZn62"
      }
    },
    {
      "cell_type": "code",
      "source": [
        "coco_model=YOLO('yolov8n.pt')\n",
        "license_plate_detector = YOLO('/content/Automatic-License-Plate-Recognition-using-YOLOv8/license_plate_detector.pt')"
      ],
      "metadata": {
        "id": "bXH9pi5sY_Gq",
        "outputId": "53548f7b-8a89-49ca-a30a-6366930e13f8",
        "colab": {
          "base_uri": "https://localhost:8080/"
        }
      },
      "execution_count": 20,
      "outputs": [
        {
          "output_type": "stream",
          "name": "stderr",
          "text": [
            "Downloading https://github.com/ultralytics/assets/releases/download/v0.0.0/yolov8n.pt to yolov8n.pt...\n",
            "100%|██████████| 6.23M/6.23M [00:00<00:00, 67.4MB/s]\n"
          ]
        }
      ]
    },
    {
      "cell_type": "markdown",
      "source": [
        "#Load video"
      ],
      "metadata": {
        "id": "T47BpfAdZ6iv"
      }
    },
    {
      "cell_type": "code",
      "source": [
        "video= cv2.VideoCapture('/content/Demo.mp4')"
      ],
      "metadata": {
        "id": "J3TTH6eKZ3nD"
      },
      "execution_count": 27,
      "outputs": []
    },
    {
      "cell_type": "markdown",
      "source": [
        "# Read frames"
      ],
      "metadata": {
        "id": "ZgDtSW0fai1M"
      }
    },
    {
      "cell_type": "code",
      "source": [
        "vehicles = [2, 3, 5, 7] # pre trained class id's 2 for car and 3 for bike and 5->bus, 7-> truck vechiles\n",
        "results={}\n",
        "# mot_tracker = Sort()\n",
        "# tracker = cv2.TrackerKLT_create()\n",
        "frame_nmr = -1\n",
        "ret = True\n",
        "while ret:\n",
        "    frame_nmr += 1\n",
        "    ret, frame = video.read()\n",
        "    if ret and frame_nmr<10:\n",
        "        # results[frame_nmr] = {}\n",
        "\n",
        "        # detect vehicles\n",
        "        detections = coco_model(frame)[0]\n",
        "        detections_ = []\n",
        "        for detection in detections.boxes.data.tolist():\n",
        "            x1, y1, x2, y2, score, class_id = detection\n",
        "            if int(class_id) in vehicles:\n",
        "                detections_.append([x1, y1, x2, y2, score])\n",
        "\n",
        "        # track vehicles\n",
        "        # track_ids = mot_tracker.update(np.asarray(detections_))\n",
        "\n",
        "        # detect license plates\n",
        "        license_plates = license_plate_detector(frame)[0]\n",
        "        for license_plate in license_plates.boxes.data.tolist():\n",
        "            x1, y1, x2, y2, score, class_id = license_plate\n",
        "\n",
        "            # assign license plate to car\n",
        "            xcar1, ycar1, xcar2, ycar2, car_id = get_car(license_plate, track_ids)\n",
        "\n",
        "            if car_id != -1:\n",
        "\n",
        "                # crop license plate\n",
        "                license_plate_crop = frame[int(y1):int(y2), int(x1): int(x2), :]\n",
        "\n",
        "                # process license plate\n",
        "                license_plate_crop_gray = cv2.cvtColor(license_plate_crop, cv2.COLOR_BGR2GRAY)\n",
        "                _, license_plate_crop_thresh = cv2.threshold(license_plate_crop_gray, 64, 255, cv2.THRESH_BINARY_INV)\n",
        "\n",
        "                # read license plate number\n",
        "                license_plate_text, license_plate_text_score = read_license_plate(license_plate_crop_thresh)\n",
        "\n",
        "                if license_plate_text is not None:\n",
        "                    results[frame_nmr][car_id] = {'car': {'bbox': [xcar1, ycar1, xcar2, ycar2]},\n",
        "                                                  'license_plate': {'bbox': [x1, y1, x2, y2],\n",
        "                                                                    'text': license_plate_text,\n",
        "                                                                    'bbox_score': score,\n",
        "                                                                    'text_score': license_plate_text_score}}\n",
        "\n",
        "# write results\n",
        "write_csv(results, './test.csv')"
      ],
      "metadata": {
        "id": "e2gViGCNafNS"
      },
      "execution_count": 52,
      "outputs": []
    },
    {
      "cell_type": "markdown",
      "source": [
        "# Write Results in CSV files"
      ],
      "metadata": {
        "id": "cNJ17y-jsgid"
      }
    },
    {
      "cell_type": "code",
      "source": [
        "def write_csv(results, output_path):\n",
        "    \"\"\"\n",
        "    Write the results to a CSV file.\n",
        "\n",
        "    Args:\n",
        "        results (dict): Dictionary containing the results.\n",
        "        output_path (str): Path to the output CSV file.\n",
        "    \"\"\"\n",
        "    with open(output_path, 'w') as f:\n",
        "        f.write('{},{},{},{},{},{},{}\\n'.format('frame_nmr', 'car_id', 'car_bbox',\n",
        "                                                'license_plate_bbox', 'license_plate_bbox_score', 'license_number',\n",
        "                                                'license_number_score'))\n",
        "\n",
        "        for frame_nmr in results.keys():\n",
        "            for car_id in results[frame_nmr].keys():\n",
        "                print(results[frame_nmr][car_id])\n",
        "                if 'car' in results[frame_nmr][car_id].keys() and \\\n",
        "                   'license_plate' in results[frame_nmr][car_id].keys() and \\\n",
        "                   'text' in results[frame_nmr][car_id]['license_plate'].keys():\n",
        "                    f.write('{},{},{},{},{},{},{}\\n'.format(frame_nmr,\n",
        "                                                            car_id,\n",
        "                                                            '[{} {} {} {}]'.format(\n",
        "                                                                results[frame_nmr][car_id]['car']['bbox'][0],\n",
        "                                                                results[frame_nmr][car_id]['car']['bbox'][1],\n",
        "                                                                results[frame_nmr][car_id]['car']['bbox'][2],\n",
        "                                                                results[frame_nmr][car_id]['car']['bbox'][3]),\n",
        "                                                            '[{} {} {} {}]'.format(\n",
        "                                                                results[frame_nmr][car_id]['license_plate']['bbox'][0],\n",
        "                                                                results[frame_nmr][car_id]['license_plate']['bbox'][1],\n",
        "                                                                results[frame_nmr][car_id]['license_plate']['bbox'][2],\n",
        "                                                                results[frame_nmr][car_id]['license_plate']['bbox'][3]),\n",
        "                                                            results[frame_nmr][car_id]['license_plate']['bbox_score'],\n",
        "                                                            results[frame_nmr][car_id]['license_plate']['text'],\n",
        "                                                            results[frame_nmr][car_id]['license_plate']['text_score'])\n",
        "                            )\n",
        "        f.close()\n"
      ],
      "metadata": {
        "id": "6u8vGm-gsf4o"
      },
      "execution_count": 39,
      "outputs": []
    },
    {
      "cell_type": "markdown",
      "source": [
        "#license_complies_format"
      ],
      "metadata": {
        "id": "JLy-XHcvtZcq"
      }
    },
    {
      "cell_type": "code",
      "source": [
        "def license_complies_format(text):\n",
        "    \"\"\"\n",
        "    Check if the license plate text complies with the required format.\n",
        "\n",
        "    Args:\n",
        "        text (str): License plate text.\n",
        "\n",
        "    Returns:\n",
        "        bool: True if the license plate complies with the format, False otherwise.\n",
        "    \"\"\"\n",
        "    if len(text) != 7:\n",
        "        return False\n",
        "\n",
        "    if (text[0] in string.ascii_uppercase or text[0] in dict_int_to_char.keys()) and \\\n",
        "       (text[1] in string.ascii_uppercase or text[1] in dict_int_to_char.keys()) and \\\n",
        "       (text[2] in ['0', '1', '2', '3', '4', '5', '6', '7', '8', '9'] or text[2] in dict_char_to_int.keys()) and \\\n",
        "       (text[3] in ['0', '1', '2', '3', '4', '5', '6', '7', '8', '9'] or text[3] in dict_char_to_int.keys()) and \\\n",
        "       (text[4] in string.ascii_uppercase or text[4] in dict_int_to_char.keys()) and \\\n",
        "       (text[5] in string.ascii_uppercase or text[5] in dict_int_to_char.keys()) and \\\n",
        "       (text[6] in string.ascii_uppercase or text[6] in dict_int_to_char.keys()):\n",
        "        return True\n",
        "    else:\n",
        "        return False"
      ],
      "metadata": {
        "id": "z8byNyFRtZIE"
      },
      "execution_count": 42,
      "outputs": []
    },
    {
      "cell_type": "markdown",
      "source": [
        "# format_license"
      ],
      "metadata": {
        "id": "EWZQPBRptimP"
      }
    },
    {
      "cell_type": "code",
      "source": [
        "# Mapping dictionaries for character conversion\n",
        "dict_char_to_int = {'O': '0',\n",
        "                    'I': '1',\n",
        "                    'J': '3',\n",
        "                    'A': '4',\n",
        "                    'G': '6',\n",
        "                    'S': '5'}\n",
        "\n",
        "dict_int_to_char = {'0': 'O',\n",
        "                    '1': 'I',\n",
        "                    '3': 'J',\n",
        "                    '4': 'A',\n",
        "                    '6': 'G',\n",
        "                    '5': 'S'}"
      ],
      "metadata": {
        "id": "cyaG6gcSt0YU"
      },
      "execution_count": 45,
      "outputs": []
    },
    {
      "cell_type": "code",
      "source": [
        "def format_license(text):\n",
        "    \"\"\"\n",
        "    Format the license plate text by converting characters using the mapping dictionaries.\n",
        "\n",
        "    Args:\n",
        "        text (str): License plate text.\n",
        "\n",
        "    Returns:\n",
        "        str: Formatted license plate text.\n",
        "    \"\"\"\n",
        "    license_plate_ = ''\n",
        "    mapping = {0: dict_int_to_char, 1: dict_int_to_char, 4: dict_int_to_char, 5: dict_int_to_char, 6: dict_int_to_char,\n",
        "               2: dict_char_to_int, 3: dict_char_to_int}\n",
        "    for j in [0, 1, 2, 3, 4, 5, 6]:\n",
        "        if text[j] in mapping[j].keys():\n",
        "            license_plate_ += mapping[j][text[j]]\n",
        "        else:\n",
        "            license_plate_ += text[j]\n",
        "\n",
        "    return license_plate_\n"
      ],
      "metadata": {
        "id": "pgeo5hGPtiWH"
      },
      "execution_count": 46,
      "outputs": []
    },
    {
      "cell_type": "markdown",
      "source": [
        "# read_license_plate"
      ],
      "metadata": {
        "id": "r5p4vxIkt3_Z"
      }
    },
    {
      "cell_type": "code",
      "source": [
        "def read_license_plate(license_plate_crop):\n",
        "    \"\"\"\n",
        "    Read the license plate text from the given cropped image.\n",
        "\n",
        "    Args:\n",
        "        license_plate_crop (PIL.Image.Image): Cropped image containing the license plate.\n",
        "\n",
        "    Returns:\n",
        "        tuple: Tuple containing the formatted license plate text and its confidence score.\n",
        "    \"\"\"\n",
        "\n",
        "    detections = reader.readtext(license_plate_crop)\n",
        "\n",
        "    for detection in detections:\n",
        "        bbox, text, score = detection\n",
        "\n",
        "        text = text.upper().replace(' ', '')\n",
        "\n",
        "        if license_complies_format(text):\n",
        "            return format_license(text), score\n",
        "\n",
        "    return None, None"
      ],
      "metadata": {
        "id": "RUcLt1hzt3xU"
      },
      "execution_count": 47,
      "outputs": []
    },
    {
      "cell_type": "markdown",
      "source": [
        "# Get Car"
      ],
      "metadata": {
        "id": "r4Dy48W5uLbc"
      }
    },
    {
      "cell_type": "code",
      "source": [
        "def get_car(license_plate, vehicle_track_ids):\n",
        "    \"\"\"\n",
        "    Retrieve the vehicle coordinates and ID based on the license plate coordinates.\n",
        "\n",
        "    Args:\n",
        "        license_plate (tuple): Tuple containing the coordinates of the license plate (x1, y1, x2, y2, score, class_id).\n",
        "        vehicle_track_ids (list): List of vehicle track IDs and their corresponding coordinates.\n",
        "\n",
        "    Returns:\n",
        "        tuple: Tuple containing the vehicle coordinates (x1, y1, x2, y2) and ID.\n",
        "    \"\"\"\n",
        "    x1, y1, x2, y2, score, class_id = license_plate\n",
        "\n",
        "    foundIt = False\n",
        "    for j in range(len(vehicle_track_ids)):\n",
        "        xcar1, ycar1, xcar2, ycar2, car_id = vehicle_track_ids[j]\n",
        "\n",
        "        if x1 > xcar1 and y1 > ycar1 and x2 < xcar2 and y2 < ycar2:\n",
        "            car_indx = j\n",
        "            foundIt = True\n",
        "            break\n",
        "\n",
        "    if foundIt:\n",
        "        return vehicle_track_ids[car_indx]\n",
        "\n",
        "    return -1, -1, -1, -1, -1"
      ],
      "metadata": {
        "id": "osY2l0n3uGds"
      },
      "execution_count": 48,
      "outputs": []
    }
  ],
  "metadata": {
    "colab": {
      "name": "Welcome To Colaboratory",
      "provenance": [],
      "include_colab_link": true
    },
    "kernelspec": {
      "display_name": "Python 3",
      "name": "python3"
    }
  },
  "nbformat": 4,
  "nbformat_minor": 0
}