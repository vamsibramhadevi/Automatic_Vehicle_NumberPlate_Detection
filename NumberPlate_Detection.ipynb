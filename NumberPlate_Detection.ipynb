{
  "cells": [
    {
      "cell_type": "markdown",
      "metadata": {
        "colab_type": "text",
        "id": "view-in-github"
      },
      "source": [
        "<a href=\"https://colab.research.google.com/github/vamsibramhadevi/Automatic_Vehicle_NumberPlate_Detection/blob/main/NumberPlate_Detection.ipynb\" target=\"_parent\"><img src=\"https://colab.research.google.com/assets/colab-badge.svg\" alt=\"Open In Colab\"/></a>"
      ]
    },
    {
      "cell_type": "code",
      "execution_count": 1,
      "metadata": {
        "colab": {
          "base_uri": "https://localhost:8080/"
        },
        "id": "L--92OmfYJ6x",
        "outputId": "a5e92066-833e-45a7-ea64-ae734e33c34c"
      },
      "outputs": [
        {
          "name": "stdout",
          "output_type": "stream",
          "text": [
            "fatal: destination path 'Automatic-License-Plate-Recognition-using-YOLOv8' already exists and is not an empty directory.\n"
          ]
        }
      ],
      "source": [
        "!git clone https://github.com/Muhammad-Zeerak-Khan/Automatic-License-Plate-Recognition-using-YOLOv8.git"
      ]
    },
    {
      "cell_type": "code",
      "execution_count": 49,
      "metadata": {
        "id": "3OnK1JjWoWJx"
      },
      "outputs": [],
      "source": [
        "# !git clone https://github.com/abewley/sort.git"
      ]
    },
    {
      "cell_type": "code",
      "execution_count": 3,
      "metadata": {
        "colab": {
          "base_uri": "https://localhost:8080/",
          "height": 1000
        },
        "id": "GALw_A_rYa8p",
        "outputId": "3511410d-4ab1-4917-9342-1f4750e0e788"
      },
      "outputs": [
        {
          "name": "stdout",
          "output_type": "stream",
          "text": [
            "\u001b[31mERROR: Could not open requirements file: [Errno 2] No such file or directory: '/content/Automatic-License-Plate-Recognition-using-YOLOv8/requirements.txt'\u001b[0m\u001b[31m\n",
            "\u001b[0m"
          ]
        }
      ],
      "source": [
        "!pip install -r /content/Automatic-License-Plate-Recognition-using-YOLOv8/requirements.txt"
      ]
    },
    {
      "cell_type": "code",
      "execution_count": 50,
      "metadata": {
        "id": "6N2EVrvCqSCj"
      },
      "outputs": [],
      "source": [
        "# !pip install -r /content/Automatic-License-Plate-Recognition-using-YOLOv8/sort/requirements.txt"
      ]
    },
    {
      "cell_type": "code",
      "execution_count": 2,
      "metadata": {
        "id": "DYCmIAD4ZQ3n"
      },
      "outputs": [],
      "source": [
        "from ultralytics import YOLO\n",
        "import string\n",
        "import cv2\n",
        "import numpy as np\n",
        "import matplotlib"
      ]
    },
    {
      "cell_type": "markdown",
      "metadata": {
        "id": "OoJbzQNWZn62"
      },
      "source": [
        "# Load Models"
      ]
    },
    {
      "cell_type": "code",
      "execution_count": 5,
      "metadata": {
        "colab": {
          "base_uri": "https://localhost:8080/"
        },
        "id": "bXH9pi5sY_Gq",
        "outputId": "53548f7b-8a89-49ca-a30a-6366930e13f8"
      },
      "outputs": [],
      "source": [
        "coco_model=YOLO('yolov8n.pt')\n",
        "license_plate_detector = YOLO('Automatic-License-Plate-Recognition-using-YOLOv8/license_plate_detector.pt')"
      ]
    },
    {
      "cell_type": "markdown",
      "metadata": {
        "id": "T47BpfAdZ6iv"
      },
      "source": [
        "#Load video"
      ]
    },
    {
      "cell_type": "code",
      "execution_count": 6,
      "metadata": {
        "id": "J3TTH6eKZ3nD"
      },
      "outputs": [],
      "source": [
        "video= cv2.VideoCapture('/content/Demo.mp4')"
      ]
    },
    {
      "cell_type": "markdown",
      "metadata": {
        "id": "ZgDtSW0fai1M"
      },
      "source": [
        "# Read frames"
      ]
    },
    {
      "cell_type": "code",
      "execution_count": 9,
      "metadata": {
        "id": "e2gViGCNafNS"
      },
      "outputs": [
        {
          "ename": "NameError",
          "evalue": "name 'write_csv' is not defined",
          "output_type": "error",
          "traceback": [
            "\u001b[0;31m---------------------------------------------------------------------------\u001b[0m",
            "\u001b[0;31mNameError\u001b[0m                                 Traceback (most recent call last)",
            "\u001b[1;32m/workspaces/Automatic_Vehicle_NumberPlate_Detection/NumberPlate_Detection.ipynb Cell 12\u001b[0m line \u001b[0;36m5\n\u001b[1;32m     <a href='vscode-notebook-cell://codespaces%2Bdidactic-carnival-qx9495gv7xvc9w5w/workspaces/Automatic_Vehicle_NumberPlate_Detection/NumberPlate_Detection.ipynb#X14sdnNjb2RlLXJlbW90ZQ%3D%3D?line=44'>45</a>\u001b[0m                     results[frame_nmr][car_id] \u001b[39m=\u001b[39m {\u001b[39m'\u001b[39m\u001b[39mcar\u001b[39m\u001b[39m'\u001b[39m: {\u001b[39m'\u001b[39m\u001b[39mbbox\u001b[39m\u001b[39m'\u001b[39m: [xcar1, ycar1, xcar2, ycar2]},\n\u001b[1;32m     <a href='vscode-notebook-cell://codespaces%2Bdidactic-carnival-qx9495gv7xvc9w5w/workspaces/Automatic_Vehicle_NumberPlate_Detection/NumberPlate_Detection.ipynb#X14sdnNjb2RlLXJlbW90ZQ%3D%3D?line=45'>46</a>\u001b[0m                                                   \u001b[39m'\u001b[39m\u001b[39mlicense_plate\u001b[39m\u001b[39m'\u001b[39m: {\u001b[39m'\u001b[39m\u001b[39mbbox\u001b[39m\u001b[39m'\u001b[39m: [x1, y1, x2, y2],\n\u001b[1;32m     <a href='vscode-notebook-cell://codespaces%2Bdidactic-carnival-qx9495gv7xvc9w5w/workspaces/Automatic_Vehicle_NumberPlate_Detection/NumberPlate_Detection.ipynb#X14sdnNjb2RlLXJlbW90ZQ%3D%3D?line=46'>47</a>\u001b[0m                                                                     \u001b[39m'\u001b[39m\u001b[39mtext\u001b[39m\u001b[39m'\u001b[39m: license_plate_text,\n\u001b[1;32m     <a href='vscode-notebook-cell://codespaces%2Bdidactic-carnival-qx9495gv7xvc9w5w/workspaces/Automatic_Vehicle_NumberPlate_Detection/NumberPlate_Detection.ipynb#X14sdnNjb2RlLXJlbW90ZQ%3D%3D?line=47'>48</a>\u001b[0m                                                                     \u001b[39m'\u001b[39m\u001b[39mbbox_score\u001b[39m\u001b[39m'\u001b[39m: score,\n\u001b[1;32m     <a href='vscode-notebook-cell://codespaces%2Bdidactic-carnival-qx9495gv7xvc9w5w/workspaces/Automatic_Vehicle_NumberPlate_Detection/NumberPlate_Detection.ipynb#X14sdnNjb2RlLXJlbW90ZQ%3D%3D?line=48'>49</a>\u001b[0m                                                                     \u001b[39m'\u001b[39m\u001b[39mtext_score\u001b[39m\u001b[39m'\u001b[39m: license_plate_text_score}}\n\u001b[1;32m     <a href='vscode-notebook-cell://codespaces%2Bdidactic-carnival-qx9495gv7xvc9w5w/workspaces/Automatic_Vehicle_NumberPlate_Detection/NumberPlate_Detection.ipynb#X14sdnNjb2RlLXJlbW90ZQ%3D%3D?line=50'>51</a>\u001b[0m \u001b[39m# write results\u001b[39;00m\n\u001b[0;32m---> <a href='vscode-notebook-cell://codespaces%2Bdidactic-carnival-qx9495gv7xvc9w5w/workspaces/Automatic_Vehicle_NumberPlate_Detection/NumberPlate_Detection.ipynb#X14sdnNjb2RlLXJlbW90ZQ%3D%3D?line=51'>52</a>\u001b[0m write_csv(results, \u001b[39m'\u001b[39m\u001b[39m./test.csv\u001b[39m\u001b[39m'\u001b[39m)\n",
            "\u001b[0;31mNameError\u001b[0m: name 'write_csv' is not defined"
          ]
        }
      ],
      "source": [
        "vehicles = [2, 3, 5, 7] # pre trained class id's 2 for car and 3 for bike and 5->bus, 7-> truck vechiles\n",
        "results={}\n",
        "# mot_tracker = Sort()\n",
        "# tracker = cv2.TrackerKLT_create()\n",
        "frame_nmr = -1\n",
        "ret = True\n",
        "while ret:\n",
        "    frame_nmr += 1\n",
        "    ret, frame = video.read()\n",
        "    if ret and frame_nmr<10:\n",
        "        # results[frame_nmr] = {}\n",
        "\n",
        "        # detect vehicles\n",
        "        detections = coco_model(frame)[0]\n",
        "        detections_ = []\n",
        "        for detection in detections.boxes.data.tolist():\n",
        "            x1, y1, x2, y2, score, class_id = detection\n",
        "            if int(class_id) in vehicles:\n",
        "                detections_.append([x1, y1, x2, y2, score])\n",
        "\n",
        "        # track vehicles\n",
        "        # track_ids = mot_tracker.update(np.asarray(detections_))\n",
        "\n",
        "        # detect license plates\n",
        "        license_plates = license_plate_detector(frame)[0]\n",
        "        for license_plate in license_plates.boxes.data.tolist():\n",
        "            x1, y1, x2, y2, score, class_id = license_plate\n",
        "\n",
        "            # assign license plate to car\n",
        "            xcar1, ycar1, xcar2, ycar2, car_id = get_car(license_plate, track_ids)\n",
        "\n",
        "            if car_id != -1:\n",
        "\n",
        "                # crop license plate\n",
        "                license_plate_crop = frame[int(y1):int(y2), int(x1): int(x2), :]\n",
        "\n",
        "                # process license plate\n",
        "                license_plate_crop_gray = cv2.cvtColor(license_plate_crop, cv2.COLOR_BGR2GRAY)\n",
        "                _, license_plate_crop_thresh = cv2.threshold(license_plate_crop_gray, 64, 255, cv2.THRESH_BINARY_INV)\n",
        "\n",
        "                # read license plate number\n",
        "                license_plate_text, license_plate_text_score = read_license_plate(license_plate_crop_thresh)\n",
        "\n",
        "                if license_plate_text is not None:\n",
        "                    results[frame_nmr][car_id] = {'car': {'bbox': [xcar1, ycar1, xcar2, ycar2]},\n",
        "                                                  'license_plate': {'bbox': [x1, y1, x2, y2],\n",
        "                                                                    'text': license_plate_text,\n",
        "                                                                    'bbox_score': score,\n",
        "                                                                    'text_score': license_plate_text_score}}\n",
        "\n",
        "# write results\n",
        "write_csv(results, './test.csv')"
      ]
    },
    {
      "cell_type": "markdown",
      "metadata": {
        "id": "cNJ17y-jsgid"
      },
      "source": [
        "# Write Results in CSV files"
      ]
    },
    {
      "cell_type": "code",
      "execution_count": 10,
      "metadata": {
        "id": "6u8vGm-gsf4o"
      },
      "outputs": [],
      "source": [
        "def write_csv(results, output_path):\n",
        "    \"\"\"\n",
        "    Write the results to a CSV file.\n",
        "\n",
        "    Args:\n",
        "        results (dict): Dictionary containing the results.\n",
        "        output_path (str): Path to the output CSV file.\n",
        "    \"\"\"\n",
        "    with open(output_path, 'w') as f:\n",
        "        f.write('{},{},{},{},{},{},{}\\n'.format('frame_nmr', 'car_id', 'car_bbox',\n",
        "                                                'license_plate_bbox', 'license_plate_bbox_score', 'license_number',\n",
        "                                                'license_number_score'))\n",
        "\n",
        "        for frame_nmr in results.keys():\n",
        "            for car_id in results[frame_nmr].keys():\n",
        "                print(results[frame_nmr][car_id])\n",
        "                if 'car' in results[frame_nmr][car_id].keys() and \\\n",
        "                   'license_plate' in results[frame_nmr][car_id].keys() and \\\n",
        "                   'text' in results[frame_nmr][car_id]['license_plate'].keys():\n",
        "                    f.write('{},{},{},{},{},{},{}\\n'.format(frame_nmr,\n",
        "                                                            car_id,\n",
        "                                                            '[{} {} {} {}]'.format(\n",
        "                                                                results[frame_nmr][car_id]['car']['bbox'][0],\n",
        "                                                                results[frame_nmr][car_id]['car']['bbox'][1],\n",
        "                                                                results[frame_nmr][car_id]['car']['bbox'][2],\n",
        "                                                                results[frame_nmr][car_id]['car']['bbox'][3]),\n",
        "                                                            '[{} {} {} {}]'.format(\n",
        "                                                                results[frame_nmr][car_id]['license_plate']['bbox'][0],\n",
        "                                                                results[frame_nmr][car_id]['license_plate']['bbox'][1],\n",
        "                                                                results[frame_nmr][car_id]['license_plate']['bbox'][2],\n",
        "                                                                results[frame_nmr][car_id]['license_plate']['bbox'][3]),\n",
        "                                                            results[frame_nmr][car_id]['license_plate']['bbox_score'],\n",
        "                                                            results[frame_nmr][car_id]['license_plate']['text'],\n",
        "                                                            results[frame_nmr][car_id]['license_plate']['text_score'])\n",
        "                            )\n",
        "        f.close()\n"
      ]
    },
    {
      "cell_type": "markdown",
      "metadata": {
        "id": "JLy-XHcvtZcq"
      },
      "source": [
        "#license_complies_format"
      ]
    },
    {
      "cell_type": "code",
      "execution_count": 11,
      "metadata": {
        "id": "z8byNyFRtZIE"
      },
      "outputs": [],
      "source": [
        "def license_complies_format(text):\n",
        "    \"\"\"\n",
        "    Check if the license plate text complies with the required format.\n",
        "\n",
        "    Args:\n",
        "        text (str): License plate text.\n",
        "\n",
        "    Returns:\n",
        "        bool: True if the license plate complies with the format, False otherwise.\n",
        "    \"\"\"\n",
        "    if len(text) != 7:\n",
        "        return False\n",
        "\n",
        "    if (text[0] in string.ascii_uppercase or text[0] in dict_int_to_char.keys()) and \\\n",
        "       (text[1] in string.ascii_uppercase or text[1] in dict_int_to_char.keys()) and \\\n",
        "       (text[2] in ['0', '1', '2', '3', '4', '5', '6', '7', '8', '9'] or text[2] in dict_char_to_int.keys()) and \\\n",
        "       (text[3] in ['0', '1', '2', '3', '4', '5', '6', '7', '8', '9'] or text[3] in dict_char_to_int.keys()) and \\\n",
        "       (text[4] in string.ascii_uppercase or text[4] in dict_int_to_char.keys()) and \\\n",
        "       (text[5] in string.ascii_uppercase or text[5] in dict_int_to_char.keys()) and \\\n",
        "       (text[6] in string.ascii_uppercase or text[6] in dict_int_to_char.keys()):\n",
        "        return True\n",
        "    else:\n",
        "        return False"
      ]
    },
    {
      "cell_type": "markdown",
      "metadata": {
        "id": "EWZQPBRptimP"
      },
      "source": [
        "# format_license"
      ]
    },
    {
      "cell_type": "code",
      "execution_count": 45,
      "metadata": {
        "id": "cyaG6gcSt0YU"
      },
      "outputs": [],
      "source": [
        "# Mapping dictionaries for character conversion\n",
        "dict_char_to_int = {'O': '0',\n",
        "                    'I': '1',\n",
        "                    'J': '3',\n",
        "                    'A': '4',\n",
        "                    'G': '6',\n",
        "                    'S': '5'}\n",
        "\n",
        "dict_int_to_char = {'0': 'O',\n",
        "                    '1': 'I',\n",
        "                    '3': 'J',\n",
        "                    '4': 'A',\n",
        "                    '6': 'G',\n",
        "                    '5': 'S'}"
      ]
    },
    {
      "cell_type": "code",
      "execution_count": 46,
      "metadata": {
        "id": "pgeo5hGPtiWH"
      },
      "outputs": [],
      "source": [
        "def format_license(text):\n",
        "    \"\"\"\n",
        "    Format the license plate text by converting characters using the mapping dictionaries.\n",
        "\n",
        "    Args:\n",
        "        text (str): License plate text.\n",
        "\n",
        "    Returns:\n",
        "        str: Formatted license plate text.\n",
        "    \"\"\"\n",
        "    license_plate_ = ''\n",
        "    mapping = {0: dict_int_to_char, 1: dict_int_to_char, 4: dict_int_to_char, 5: dict_int_to_char, 6: dict_int_to_char,\n",
        "               2: dict_char_to_int, 3: dict_char_to_int}\n",
        "    for j in [0, 1, 2, 3, 4, 5, 6]:\n",
        "        if text[j] in mapping[j].keys():\n",
        "            license_plate_ += mapping[j][text[j]]\n",
        "        else:\n",
        "            license_plate_ += text[j]\n",
        "\n",
        "    return license_plate_\n"
      ]
    },
    {
      "cell_type": "markdown",
      "metadata": {
        "id": "r5p4vxIkt3_Z"
      },
      "source": [
        "# read_license_plate"
      ]
    },
    {
      "cell_type": "code",
      "execution_count": 47,
      "metadata": {
        "id": "RUcLt1hzt3xU"
      },
      "outputs": [],
      "source": [
        "def read_license_plate(license_plate_crop):\n",
        "    \"\"\"\n",
        "    Read the license plate text from the given cropped image.\n",
        "\n",
        "    Args:\n",
        "        license_plate_crop (PIL.Image.Image): Cropped image containing the license plate.\n",
        "\n",
        "    Returns:\n",
        "        tuple: Tuple containing the formatted license plate text and its confidence score.\n",
        "    \"\"\"\n",
        "\n",
        "    detections = reader.readtext(license_plate_crop)\n",
        "\n",
        "    for detection in detections:\n",
        "        bbox, text, score = detection\n",
        "\n",
        "        text = text.upper().replace(' ', '')\n",
        "\n",
        "        if license_complies_format(text):\n",
        "            return format_license(text), score\n",
        "\n",
        "    return None, None"
      ]
    },
    {
      "cell_type": "markdown",
      "metadata": {
        "id": "r4Dy48W5uLbc"
      },
      "source": [
        "# Get Car"
      ]
    },
    {
      "cell_type": "code",
      "execution_count": 48,
      "metadata": {
        "id": "osY2l0n3uGds"
      },
      "outputs": [],
      "source": [
        "def get_car(license_plate, vehicle_track_ids):\n",
        "    \"\"\"\n",
        "    Retrieve the vehicle coordinates and ID based on the license plate coordinates.\n",
        "\n",
        "    Args:\n",
        "        license_plate (tuple): Tuple containing the coordinates of the license plate (x1, y1, x2, y2, score, class_id).\n",
        "        vehicle_track_ids (list): List of vehicle track IDs and their corresponding coordinates.\n",
        "\n",
        "    Returns:\n",
        "        tuple: Tuple containing the vehicle coordinates (x1, y1, x2, y2) and ID.\n",
        "    \"\"\"\n",
        "    x1, y1, x2, y2, score, class_id = license_plate\n",
        "\n",
        "    foundIt = False\n",
        "    for j in range(len(vehicle_track_ids)):\n",
        "        xcar1, ycar1, xcar2, ycar2, car_id = vehicle_track_ids[j]\n",
        "\n",
        "        if x1 > xcar1 and y1 > ycar1 and x2 < xcar2 and y2 < ycar2:\n",
        "            car_indx = j\n",
        "            foundIt = True\n",
        "            break\n",
        "\n",
        "    if foundIt:\n",
        "        return vehicle_track_ids[car_indx]\n",
        "\n",
        "    return -1, -1, -1, -1, -1"
      ]
    }
  ],
  "metadata": {
    "colab": {
      "include_colab_link": true,
      "name": "Welcome To Colaboratory",
      "provenance": []
    },
    "kernelspec": {
      "display_name": "Python 3",
      "name": "python3"
    },
    "language_info": {
      "codemirror_mode": {
        "name": "ipython",
        "version": 3
      },
      "file_extension": ".py",
      "mimetype": "text/x-python",
      "name": "python",
      "nbconvert_exporter": "python",
      "pygments_lexer": "ipython3",
      "version": "3.10.8"
    }
  },
  "nbformat": 4,
  "nbformat_minor": 0
}
