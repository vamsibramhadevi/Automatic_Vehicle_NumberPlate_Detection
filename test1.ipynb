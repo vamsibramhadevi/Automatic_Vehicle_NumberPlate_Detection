{
  "cells": [
    {
      "cell_type": "markdown",
      "metadata": {
        "id": "view-in-github",
        "colab_type": "text"
      },
      "source": [
        "<a href=\"https://colab.research.google.com/github/vamsibramhadevi/Automatic_Vehicle_NumberPlate_Detection/blob/main/test1.ipynb\" target=\"_parent\"><img src=\"https://colab.research.google.com/assets/colab-badge.svg\" alt=\"Open In Colab\"/></a>"
      ]
    },
    {
      "cell_type": "code",
      "source": [
        "!git clone https://github.com/Muhammad-Zeerak-Khan/Automatic-License-Plate-Recognition-using-YOLOv8.git\n"
      ],
      "metadata": {
        "id": "LJFk9jYUxpGJ",
        "outputId": "d7e4ff02-d326-4eb7-d822-d2552b0b61a1",
        "colab": {
          "base_uri": "https://localhost:8080/"
        }
      },
      "execution_count": 1,
      "outputs": [
        {
          "output_type": "stream",
          "name": "stdout",
          "text": [
            "Cloning into 'Automatic-License-Plate-Recognition-using-YOLOv8'...\n",
            "remote: Enumerating objects: 48, done.\u001b[K\n",
            "remote: Counting objects: 100% (16/16), done.\u001b[K\n",
            "remote: Compressing objects: 100% (6/6), done.\u001b[K\n",
            "remote: Total 48 (delta 10), reused 10 (delta 10), pack-reused 32\u001b[K\n",
            "Receiving objects: 100% (48/48), 5.38 MiB | 23.87 MiB/s, done.\n",
            "Resolving deltas: 100% (23/23), done.\n"
          ]
        }
      ]
    },
    {
      "cell_type": "code",
      "source": [
        "!git clone https://github.com/abewley/sort.git"
      ],
      "metadata": {
        "id": "6hunwasRycAm",
        "outputId": "b59c0809-9bb2-49d9-9fb2-68b4d51e3d37",
        "colab": {
          "base_uri": "https://localhost:8080/"
        }
      },
      "execution_count": 2,
      "outputs": [
        {
          "output_type": "stream",
          "name": "stdout",
          "text": [
            "Cloning into 'sort'...\n",
            "remote: Enumerating objects: 205, done.\u001b[K\n",
            "remote: Counting objects:  33% (1/3)\u001b[K\rremote: Counting objects:  66% (2/3)\u001b[K\rremote: Counting objects: 100% (3/3)\u001b[K\rremote: Counting objects: 100% (3/3), done.\u001b[K\n",
            "remote: Compressing objects: 100% (3/3), done.\u001b[K\n",
            "remote: Total 205 (delta 0), reused 0 (delta 0), pack-reused 202\u001b[K\n",
            "Receiving objects: 100% (205/205), 1.20 MiB | 12.59 MiB/s, done.\n",
            "Resolving deltas: 100% (72/72), done.\n"
          ]
        }
      ]
    },
    {
      "cell_type": "code",
      "source": [
        "!pip install -r /content/Automatic-License-Plate-Recognition-using-YOLOv8/requirements.txt"
      ],
      "metadata": {
        "id": "P0YV2Zs7ypGe",
        "outputId": "42efb622-80fa-4589-fe9f-1e114fe770f7",
        "colab": {
          "base_uri": "https://localhost:8080/",
          "height": 1000
        }
      },
      "execution_count": 3,
      "outputs": [
        {
          "output_type": "stream",
          "name": "stdout",
          "text": [
            "Collecting ultralytics==8.0.114 (from -r /content/Automatic-License-Plate-Recognition-using-YOLOv8/requirements.txt (line 1))\n",
            "  Downloading ultralytics-8.0.114-py3-none-any.whl (595 kB)\n",
            "\u001b[2K     \u001b[90m━━━━━━━━━━━━━━━━━━━━━━━━━━━━━━━━━━━━━━━━\u001b[0m \u001b[32m595.4/595.4 kB\u001b[0m \u001b[31m6.8 MB/s\u001b[0m eta \u001b[36m0:00:00\u001b[0m\n",
            "\u001b[?25hCollecting pandas==2.0.2 (from -r /content/Automatic-License-Plate-Recognition-using-YOLOv8/requirements.txt (line 2))\n",
            "  Downloading pandas-2.0.2-cp310-cp310-manylinux_2_17_x86_64.manylinux2014_x86_64.whl (12.3 MB)\n",
            "\u001b[2K     \u001b[90m━━━━━━━━━━━━━━━━━━━━━━━━━━━━━━━━━━━━━━━━\u001b[0m \u001b[32m12.3/12.3 MB\u001b[0m \u001b[31m79.1 MB/s\u001b[0m eta \u001b[36m0:00:00\u001b[0m\n",
            "\u001b[?25hCollecting opencv-python==4.7.0.72 (from -r /content/Automatic-License-Plate-Recognition-using-YOLOv8/requirements.txt (line 3))\n",
            "  Downloading opencv_python-4.7.0.72-cp37-abi3-manylinux_2_17_x86_64.manylinux2014_x86_64.whl (61.8 MB)\n",
            "\u001b[2K     \u001b[90m━━━━━━━━━━━━━━━━━━━━━━━━━━━━━━━━━━━━━━━━\u001b[0m \u001b[32m61.8/61.8 MB\u001b[0m \u001b[31m11.6 MB/s\u001b[0m eta \u001b[36m0:00:00\u001b[0m\n",
            "\u001b[?25hCollecting numpy==1.24.3 (from -r /content/Automatic-License-Plate-Recognition-using-YOLOv8/requirements.txt (line 4))\n",
            "  Downloading numpy-1.24.3-cp310-cp310-manylinux_2_17_x86_64.manylinux2014_x86_64.whl (17.3 MB)\n",
            "\u001b[2K     \u001b[90m━━━━━━━━━━━━━━━━━━━━━━━━━━━━━━━━━━━━━━━━\u001b[0m \u001b[32m17.3/17.3 MB\u001b[0m \u001b[31m69.1 MB/s\u001b[0m eta \u001b[36m0:00:00\u001b[0m\n",
            "\u001b[?25hCollecting scipy==1.10.1 (from -r /content/Automatic-License-Plate-Recognition-using-YOLOv8/requirements.txt (line 5))\n",
            "  Downloading scipy-1.10.1-cp310-cp310-manylinux_2_17_x86_64.manylinux2014_x86_64.whl (34.4 MB)\n",
            "\u001b[2K     \u001b[90m━━━━━━━━━━━━━━━━━━━━━━━━━━━━━━━━━━━━━━━━\u001b[0m \u001b[32m34.4/34.4 MB\u001b[0m \u001b[31m40.8 MB/s\u001b[0m eta \u001b[36m0:00:00\u001b[0m\n",
            "\u001b[?25hCollecting easyocr==1.7.0 (from -r /content/Automatic-License-Plate-Recognition-using-YOLOv8/requirements.txt (line 6))\n",
            "  Downloading easyocr-1.7.0-py3-none-any.whl (2.9 MB)\n",
            "\u001b[2K     \u001b[90m━━━━━━━━━━━━━━━━━━━━━━━━━━━━━━━━━━━━━━━━\u001b[0m \u001b[32m2.9/2.9 MB\u001b[0m \u001b[31m78.3 MB/s\u001b[0m eta \u001b[36m0:00:00\u001b[0m\n",
            "\u001b[?25hCollecting filterpy==1.4.5 (from -r /content/Automatic-License-Plate-Recognition-using-YOLOv8/requirements.txt (line 7))\n",
            "  Downloading filterpy-1.4.5.zip (177 kB)\n",
            "\u001b[2K     \u001b[90m━━━━━━━━━━━━━━━━━━━━━━━━━━━━━━━━━━━━━━━━\u001b[0m \u001b[32m178.0/178.0 kB\u001b[0m \u001b[31m17.4 MB/s\u001b[0m eta \u001b[36m0:00:00\u001b[0m\n",
            "\u001b[?25h  Preparing metadata (setup.py) ... \u001b[?25l\u001b[?25hdone\n",
            "Requirement already satisfied: matplotlib>=3.2.2 in /usr/local/lib/python3.10/dist-packages (from ultralytics==8.0.114->-r /content/Automatic-License-Plate-Recognition-using-YOLOv8/requirements.txt (line 1)) (3.7.1)\n",
            "Requirement already satisfied: Pillow>=7.1.2 in /usr/local/lib/python3.10/dist-packages (from ultralytics==8.0.114->-r /content/Automatic-License-Plate-Recognition-using-YOLOv8/requirements.txt (line 1)) (9.4.0)\n",
            "Requirement already satisfied: PyYAML>=5.3.1 in /usr/local/lib/python3.10/dist-packages (from ultralytics==8.0.114->-r /content/Automatic-License-Plate-Recognition-using-YOLOv8/requirements.txt (line 1)) (6.0.1)\n",
            "Requirement already satisfied: requests>=2.23.0 in /usr/local/lib/python3.10/dist-packages (from ultralytics==8.0.114->-r /content/Automatic-License-Plate-Recognition-using-YOLOv8/requirements.txt (line 1)) (2.31.0)\n",
            "Requirement already satisfied: torch>=1.7.0 in /usr/local/lib/python3.10/dist-packages (from ultralytics==8.0.114->-r /content/Automatic-License-Plate-Recognition-using-YOLOv8/requirements.txt (line 1)) (2.1.0+cu118)\n",
            "Requirement already satisfied: torchvision>=0.8.1 in /usr/local/lib/python3.10/dist-packages (from ultralytics==8.0.114->-r /content/Automatic-License-Plate-Recognition-using-YOLOv8/requirements.txt (line 1)) (0.16.0+cu118)\n",
            "Requirement already satisfied: tqdm>=4.64.0 in /usr/local/lib/python3.10/dist-packages (from ultralytics==8.0.114->-r /content/Automatic-License-Plate-Recognition-using-YOLOv8/requirements.txt (line 1)) (4.66.1)\n",
            "Requirement already satisfied: seaborn>=0.11.0 in /usr/local/lib/python3.10/dist-packages (from ultralytics==8.0.114->-r /content/Automatic-License-Plate-Recognition-using-YOLOv8/requirements.txt (line 1)) (0.12.2)\n",
            "Requirement already satisfied: psutil in /usr/local/lib/python3.10/dist-packages (from ultralytics==8.0.114->-r /content/Automatic-License-Plate-Recognition-using-YOLOv8/requirements.txt (line 1)) (5.9.5)\n",
            "Requirement already satisfied: python-dateutil>=2.8.2 in /usr/local/lib/python3.10/dist-packages (from pandas==2.0.2->-r /content/Automatic-License-Plate-Recognition-using-YOLOv8/requirements.txt (line 2)) (2.8.2)\n",
            "Requirement already satisfied: pytz>=2020.1 in /usr/local/lib/python3.10/dist-packages (from pandas==2.0.2->-r /content/Automatic-License-Plate-Recognition-using-YOLOv8/requirements.txt (line 2)) (2023.3.post1)\n",
            "Collecting tzdata>=2022.1 (from pandas==2.0.2->-r /content/Automatic-License-Plate-Recognition-using-YOLOv8/requirements.txt (line 2))\n",
            "  Downloading tzdata-2023.3-py2.py3-none-any.whl (341 kB)\n",
            "\u001b[2K     \u001b[90m━━━━━━━━━━━━━━━━━━━━━━━━━━━━━━━━━━━━━━━━\u001b[0m \u001b[32m341.8/341.8 kB\u001b[0m \u001b[31m25.9 MB/s\u001b[0m eta \u001b[36m0:00:00\u001b[0m\n",
            "\u001b[?25hRequirement already satisfied: opencv-python-headless in /usr/local/lib/python3.10/dist-packages (from easyocr==1.7.0->-r /content/Automatic-License-Plate-Recognition-using-YOLOv8/requirements.txt (line 6)) (4.8.1.78)\n",
            "Requirement already satisfied: scikit-image in /usr/local/lib/python3.10/dist-packages (from easyocr==1.7.0->-r /content/Automatic-License-Plate-Recognition-using-YOLOv8/requirements.txt (line 6)) (0.19.3)\n",
            "Collecting python-bidi (from easyocr==1.7.0->-r /content/Automatic-License-Plate-Recognition-using-YOLOv8/requirements.txt (line 6))\n",
            "  Downloading python_bidi-0.4.2-py2.py3-none-any.whl (30 kB)\n",
            "Requirement already satisfied: Shapely in /usr/local/lib/python3.10/dist-packages (from easyocr==1.7.0->-r /content/Automatic-License-Plate-Recognition-using-YOLOv8/requirements.txt (line 6)) (2.0.2)\n",
            "Collecting pyclipper (from easyocr==1.7.0->-r /content/Automatic-License-Plate-Recognition-using-YOLOv8/requirements.txt (line 6))\n",
            "  Downloading pyclipper-1.3.0.post5-cp310-cp310-manylinux_2_12_x86_64.manylinux2010_x86_64.whl (908 kB)\n",
            "\u001b[2K     \u001b[90m━━━━━━━━━━━━━━━━━━━━━━━━━━━━━━━━━━━━━━━━\u001b[0m \u001b[32m908.3/908.3 kB\u001b[0m \u001b[31m56.5 MB/s\u001b[0m eta \u001b[36m0:00:00\u001b[0m\n",
            "\u001b[?25hCollecting ninja (from easyocr==1.7.0->-r /content/Automatic-License-Plate-Recognition-using-YOLOv8/requirements.txt (line 6))\n",
            "  Downloading ninja-1.11.1.1-py2.py3-none-manylinux1_x86_64.manylinux_2_5_x86_64.whl (307 kB)\n",
            "\u001b[2K     \u001b[90m━━━━━━━━━━━━━━━━━━━━━━━━━━━━━━━━━━━━━━━━\u001b[0m \u001b[32m307.2/307.2 kB\u001b[0m \u001b[31m27.5 MB/s\u001b[0m eta \u001b[36m0:00:00\u001b[0m\n",
            "\u001b[?25hRequirement already satisfied: contourpy>=1.0.1 in /usr/local/lib/python3.10/dist-packages (from matplotlib>=3.2.2->ultralytics==8.0.114->-r /content/Automatic-License-Plate-Recognition-using-YOLOv8/requirements.txt (line 1)) (1.1.1)\n",
            "Requirement already satisfied: cycler>=0.10 in /usr/local/lib/python3.10/dist-packages (from matplotlib>=3.2.2->ultralytics==8.0.114->-r /content/Automatic-License-Plate-Recognition-using-YOLOv8/requirements.txt (line 1)) (0.12.1)\n",
            "Requirement already satisfied: fonttools>=4.22.0 in /usr/local/lib/python3.10/dist-packages (from matplotlib>=3.2.2->ultralytics==8.0.114->-r /content/Automatic-License-Plate-Recognition-using-YOLOv8/requirements.txt (line 1)) (4.43.1)\n",
            "Requirement already satisfied: kiwisolver>=1.0.1 in /usr/local/lib/python3.10/dist-packages (from matplotlib>=3.2.2->ultralytics==8.0.114->-r /content/Automatic-License-Plate-Recognition-using-YOLOv8/requirements.txt (line 1)) (1.4.5)\n",
            "Requirement already satisfied: packaging>=20.0 in /usr/local/lib/python3.10/dist-packages (from matplotlib>=3.2.2->ultralytics==8.0.114->-r /content/Automatic-License-Plate-Recognition-using-YOLOv8/requirements.txt (line 1)) (23.2)\n",
            "Requirement already satisfied: pyparsing>=2.3.1 in /usr/local/lib/python3.10/dist-packages (from matplotlib>=3.2.2->ultralytics==8.0.114->-r /content/Automatic-License-Plate-Recognition-using-YOLOv8/requirements.txt (line 1)) (3.1.1)\n",
            "Requirement already satisfied: six>=1.5 in /usr/local/lib/python3.10/dist-packages (from python-dateutil>=2.8.2->pandas==2.0.2->-r /content/Automatic-License-Plate-Recognition-using-YOLOv8/requirements.txt (line 2)) (1.16.0)\n",
            "Requirement already satisfied: charset-normalizer<4,>=2 in /usr/local/lib/python3.10/dist-packages (from requests>=2.23.0->ultralytics==8.0.114->-r /content/Automatic-License-Plate-Recognition-using-YOLOv8/requirements.txt (line 1)) (3.3.1)\n",
            "Requirement already satisfied: idna<4,>=2.5 in /usr/local/lib/python3.10/dist-packages (from requests>=2.23.0->ultralytics==8.0.114->-r /content/Automatic-License-Plate-Recognition-using-YOLOv8/requirements.txt (line 1)) (3.4)\n",
            "Requirement already satisfied: urllib3<3,>=1.21.1 in /usr/local/lib/python3.10/dist-packages (from requests>=2.23.0->ultralytics==8.0.114->-r /content/Automatic-License-Plate-Recognition-using-YOLOv8/requirements.txt (line 1)) (2.0.7)\n",
            "Requirement already satisfied: certifi>=2017.4.17 in /usr/local/lib/python3.10/dist-packages (from requests>=2.23.0->ultralytics==8.0.114->-r /content/Automatic-License-Plate-Recognition-using-YOLOv8/requirements.txt (line 1)) (2023.7.22)\n",
            "Requirement already satisfied: filelock in /usr/local/lib/python3.10/dist-packages (from torch>=1.7.0->ultralytics==8.0.114->-r /content/Automatic-License-Plate-Recognition-using-YOLOv8/requirements.txt (line 1)) (3.12.4)\n",
            "Requirement already satisfied: typing-extensions in /usr/local/lib/python3.10/dist-packages (from torch>=1.7.0->ultralytics==8.0.114->-r /content/Automatic-License-Plate-Recognition-using-YOLOv8/requirements.txt (line 1)) (4.5.0)\n",
            "Requirement already satisfied: sympy in /usr/local/lib/python3.10/dist-packages (from torch>=1.7.0->ultralytics==8.0.114->-r /content/Automatic-License-Plate-Recognition-using-YOLOv8/requirements.txt (line 1)) (1.12)\n",
            "Requirement already satisfied: networkx in /usr/local/lib/python3.10/dist-packages (from torch>=1.7.0->ultralytics==8.0.114->-r /content/Automatic-License-Plate-Recognition-using-YOLOv8/requirements.txt (line 1)) (3.2)\n",
            "Requirement already satisfied: jinja2 in /usr/local/lib/python3.10/dist-packages (from torch>=1.7.0->ultralytics==8.0.114->-r /content/Automatic-License-Plate-Recognition-using-YOLOv8/requirements.txt (line 1)) (3.1.2)\n",
            "Requirement already satisfied: fsspec in /usr/local/lib/python3.10/dist-packages (from torch>=1.7.0->ultralytics==8.0.114->-r /content/Automatic-License-Plate-Recognition-using-YOLOv8/requirements.txt (line 1)) (2023.6.0)\n",
            "Requirement already satisfied: triton==2.1.0 in /usr/local/lib/python3.10/dist-packages (from torch>=1.7.0->ultralytics==8.0.114->-r /content/Automatic-License-Plate-Recognition-using-YOLOv8/requirements.txt (line 1)) (2.1.0)\n",
            "Requirement already satisfied: imageio>=2.4.1 in /usr/local/lib/python3.10/dist-packages (from scikit-image->easyocr==1.7.0->-r /content/Automatic-License-Plate-Recognition-using-YOLOv8/requirements.txt (line 6)) (2.31.6)\n",
            "Requirement already satisfied: tifffile>=2019.7.26 in /usr/local/lib/python3.10/dist-packages (from scikit-image->easyocr==1.7.0->-r /content/Automatic-License-Plate-Recognition-using-YOLOv8/requirements.txt (line 6)) (2023.9.26)\n",
            "Requirement already satisfied: PyWavelets>=1.1.1 in /usr/local/lib/python3.10/dist-packages (from scikit-image->easyocr==1.7.0->-r /content/Automatic-License-Plate-Recognition-using-YOLOv8/requirements.txt (line 6)) (1.4.1)\n",
            "Requirement already satisfied: MarkupSafe>=2.0 in /usr/local/lib/python3.10/dist-packages (from jinja2->torch>=1.7.0->ultralytics==8.0.114->-r /content/Automatic-License-Plate-Recognition-using-YOLOv8/requirements.txt (line 1)) (2.1.3)\n",
            "Requirement already satisfied: mpmath>=0.19 in /usr/local/lib/python3.10/dist-packages (from sympy->torch>=1.7.0->ultralytics==8.0.114->-r /content/Automatic-License-Plate-Recognition-using-YOLOv8/requirements.txt (line 1)) (1.3.0)\n",
            "Building wheels for collected packages: filterpy\n",
            "  Building wheel for filterpy (setup.py) ... \u001b[?25l\u001b[?25hdone\n",
            "  Created wheel for filterpy: filename=filterpy-1.4.5-py3-none-any.whl size=110459 sha256=776cba361d4af818072a9d06c9137751464248681571627b6251034a5dc07bd2\n",
            "  Stored in directory: /root/.cache/pip/wheels/0f/0c/ea/218f266af4ad626897562199fbbcba521b8497303200186102\n",
            "Successfully built filterpy\n",
            "Installing collected packages: pyclipper, ninja, tzdata, python-bidi, numpy, scipy, pandas, opencv-python, filterpy, easyocr, ultralytics\n",
            "  Attempting uninstall: numpy\n",
            "    Found existing installation: numpy 1.23.5\n",
            "    Uninstalling numpy-1.23.5:\n",
            "      Successfully uninstalled numpy-1.23.5\n",
            "  Attempting uninstall: scipy\n",
            "    Found existing installation: scipy 1.11.3\n",
            "    Uninstalling scipy-1.11.3:\n",
            "      Successfully uninstalled scipy-1.11.3\n",
            "  Attempting uninstall: pandas\n",
            "    Found existing installation: pandas 1.5.3\n",
            "    Uninstalling pandas-1.5.3:\n",
            "      Successfully uninstalled pandas-1.5.3\n",
            "  Attempting uninstall: opencv-python\n",
            "    Found existing installation: opencv-python 4.8.0.76\n",
            "    Uninstalling opencv-python-4.8.0.76:\n",
            "      Successfully uninstalled opencv-python-4.8.0.76\n",
            "\u001b[31mERROR: pip's dependency resolver does not currently take into account all the packages that are installed. This behaviour is the source of the following dependency conflicts.\n",
            "lida 0.0.10 requires fastapi, which is not installed.\n",
            "lida 0.0.10 requires kaleido, which is not installed.\n",
            "lida 0.0.10 requires python-multipart, which is not installed.\n",
            "lida 0.0.10 requires uvicorn, which is not installed.\n",
            "google-colab 1.0.0 requires pandas==1.5.3, but you have pandas 2.0.2 which is incompatible.\n",
            "numba 0.56.4 requires numpy<1.24,>=1.18, but you have numpy 1.24.3 which is incompatible.\u001b[0m\u001b[31m\n",
            "\u001b[0mSuccessfully installed easyocr-1.7.0 filterpy-1.4.5 ninja-1.11.1.1 numpy-1.24.3 opencv-python-4.7.0.72 pandas-2.0.2 pyclipper-1.3.0.post5 python-bidi-0.4.2 scipy-1.10.1 tzdata-2023.3 ultralytics-8.0.114\n"
          ]
        },
        {
          "output_type": "display_data",
          "data": {
            "application/vnd.colab-display-data+json": {
              "pip_warning": {
                "packages": [
                  "numpy"
                ]
              }
            }
          },
          "metadata": {}
        }
      ]
    },
    {
      "cell_type": "code",
      "source": [
        "!pip install -r /content/sort/requirements.txt"
      ],
      "metadata": {
        "id": "ksN8ePw8y85T",
        "outputId": "5357282c-0ab3-47eb-cd84-da178707f78b",
        "colab": {
          "base_uri": "https://localhost:8080/"
        }
      },
      "execution_count": 1,
      "outputs": [
        {
          "output_type": "stream",
          "name": "stdout",
          "text": [
            "Requirement already satisfied: filterpy==1.4.5 in /usr/local/lib/python3.10/dist-packages (from -r /content/sort/requirements.txt (line 1)) (1.4.5)\n",
            "Collecting scikit-image==0.17.2 (from -r /content/sort/requirements.txt (line 2))\n",
            "  Downloading scikit-image-0.17.2.tar.gz (29.8 MB)\n",
            "\u001b[2K     \u001b[90m━━━━━━━━━━━━━━━━━━━━━━━━━━━━━━━━━━━━━━━━\u001b[0m \u001b[32m29.8/29.8 MB\u001b[0m \u001b[31m36.2 MB/s\u001b[0m eta \u001b[36m0:00:00\u001b[0m\n",
            "\u001b[?25h  Preparing metadata (setup.py) ... \u001b[?25l\u001b[?25hdone\n",
            "Collecting lap==0.4.0 (from -r /content/sort/requirements.txt (line 3))\n",
            "  Downloading lap-0.4.0.tar.gz (1.5 MB)\n",
            "\u001b[2K     \u001b[90m━━━━━━━━━━━━━━━━━━━━━━━━━━━━━━━━━━━━━━━━\u001b[0m \u001b[32m1.5/1.5 MB\u001b[0m \u001b[31m67.9 MB/s\u001b[0m eta \u001b[36m0:00:00\u001b[0m\n",
            "\u001b[?25h  Preparing metadata (setup.py) ... \u001b[?25l\u001b[?25hdone\n",
            "Requirement already satisfied: numpy in /usr/local/lib/python3.10/dist-packages (from filterpy==1.4.5->-r /content/sort/requirements.txt (line 1)) (1.24.3)\n",
            "Requirement already satisfied: scipy in /usr/local/lib/python3.10/dist-packages (from filterpy==1.4.5->-r /content/sort/requirements.txt (line 1)) (1.10.1)\n",
            "Requirement already satisfied: matplotlib in /usr/local/lib/python3.10/dist-packages (from filterpy==1.4.5->-r /content/sort/requirements.txt (line 1)) (3.7.1)\n",
            "Requirement already satisfied: networkx>=2.0 in /usr/local/lib/python3.10/dist-packages (from scikit-image==0.17.2->-r /content/sort/requirements.txt (line 2)) (3.2)\n",
            "Requirement already satisfied: pillow!=7.1.0,!=7.1.1,>=4.3.0 in /usr/local/lib/python3.10/dist-packages (from scikit-image==0.17.2->-r /content/sort/requirements.txt (line 2)) (9.4.0)\n",
            "Requirement already satisfied: imageio>=2.3.0 in /usr/local/lib/python3.10/dist-packages (from scikit-image==0.17.2->-r /content/sort/requirements.txt (line 2)) (2.31.6)\n",
            "Requirement already satisfied: tifffile>=2019.7.26 in /usr/local/lib/python3.10/dist-packages (from scikit-image==0.17.2->-r /content/sort/requirements.txt (line 2)) (2023.9.26)\n",
            "Requirement already satisfied: PyWavelets>=1.1.1 in /usr/local/lib/python3.10/dist-packages (from scikit-image==0.17.2->-r /content/sort/requirements.txt (line 2)) (1.4.1)\n",
            "Requirement already satisfied: contourpy>=1.0.1 in /usr/local/lib/python3.10/dist-packages (from matplotlib->filterpy==1.4.5->-r /content/sort/requirements.txt (line 1)) (1.1.1)\n",
            "Requirement already satisfied: cycler>=0.10 in /usr/local/lib/python3.10/dist-packages (from matplotlib->filterpy==1.4.5->-r /content/sort/requirements.txt (line 1)) (0.12.1)\n",
            "Requirement already satisfied: fonttools>=4.22.0 in /usr/local/lib/python3.10/dist-packages (from matplotlib->filterpy==1.4.5->-r /content/sort/requirements.txt (line 1)) (4.43.1)\n",
            "Requirement already satisfied: kiwisolver>=1.0.1 in /usr/local/lib/python3.10/dist-packages (from matplotlib->filterpy==1.4.5->-r /content/sort/requirements.txt (line 1)) (1.4.5)\n",
            "Requirement already satisfied: packaging>=20.0 in /usr/local/lib/python3.10/dist-packages (from matplotlib->filterpy==1.4.5->-r /content/sort/requirements.txt (line 1)) (23.2)\n",
            "Requirement already satisfied: pyparsing>=2.3.1 in /usr/local/lib/python3.10/dist-packages (from matplotlib->filterpy==1.4.5->-r /content/sort/requirements.txt (line 1)) (3.1.1)\n",
            "Requirement already satisfied: python-dateutil>=2.7 in /usr/local/lib/python3.10/dist-packages (from matplotlib->filterpy==1.4.5->-r /content/sort/requirements.txt (line 1)) (2.8.2)\n",
            "Requirement already satisfied: six>=1.5 in /usr/local/lib/python3.10/dist-packages (from python-dateutil>=2.7->matplotlib->filterpy==1.4.5->-r /content/sort/requirements.txt (line 1)) (1.16.0)\n",
            "Building wheels for collected packages: scikit-image, lap\n",
            "  Building wheel for scikit-image (setup.py) ... \u001b[?25l\u001b[?25hdone\n",
            "  Created wheel for scikit-image: filename=scikit_image-0.17.2-cp310-cp310-linux_x86_64.whl size=33051711 sha256=bd65dc9a00fefabbf0505693866a133b27311745a3781440021791522e292703\n",
            "  Stored in directory: /root/.cache/pip/wheels/30/fc/f4/10c6987c3a9cb937913fa19f8290e91e6f66df2440c2af6130\n",
            "  Building wheel for lap (setup.py) ... \u001b[?25l\u001b[?25hdone\n",
            "  Created wheel for lap: filename=lap-0.4.0-cp310-cp310-linux_x86_64.whl size=1628964 sha256=c27afeefbff97cf45bcb4ffaf1479c38ec6f231df4c283ec62dbd8015bf8013b\n",
            "  Stored in directory: /root/.cache/pip/wheels/00/42/2e/9dfe19270eea279d79e84767ff0d7b8082c3bf776cad00e83d\n",
            "Successfully built scikit-image lap\n",
            "Installing collected packages: lap, scikit-image\n",
            "  Attempting uninstall: scikit-image\n",
            "    Found existing installation: scikit-image 0.19.3\n",
            "    Uninstalling scikit-image-0.19.3:\n",
            "      Successfully uninstalled scikit-image-0.19.3\n",
            "Successfully installed lap-0.4.0 scikit-image-0.17.2\n"
          ]
        }
      ]
    },
    {
      "cell_type": "code",
      "source": [
        "from ultralytics import YOLO\n",
        "import string\n",
        "import cv2\n",
        "import numpy as np\n",
        "import matplotlib\n",
        "from sort.sort import *"
      ],
      "metadata": {
        "id": "pjw311-82wXG"
      },
      "execution_count": 3,
      "outputs": []
    },
    {
      "cell_type": "code",
      "source": [
        "coco_model=YOLO('yolov8n.pt')\n",
        "license_plate_detector = YOLO('/content/Automatic-License-Plate-Recognition-using-YOLOv8/license_plate_detector.pt')"
      ],
      "metadata": {
        "id": "gdhDJ0s42-ZI",
        "outputId": "b81953f1-b256-4633-9792-ae27eb7faab9",
        "colab": {
          "base_uri": "https://localhost:8080/"
        }
      },
      "execution_count": 4,
      "outputs": [
        {
          "output_type": "stream",
          "name": "stderr",
          "text": [
            "Downloading https://github.com/ultralytics/assets/releases/download/v0.0.0/yolov8n.pt to yolov8n.pt...\n",
            "100%|██████████| 6.23M/6.23M [00:00<00:00, 61.3MB/s]\n"
          ]
        }
      ]
    },
    {
      "cell_type": "code",
      "source": [
        "video= cv2.VideoCapture('/content/Demo.mp4')"
      ],
      "metadata": {
        "id": "MYX0y2rZ3PB1"
      },
      "execution_count": 5,
      "outputs": []
    },
    {
      "cell_type": "code",
      "source": [
        "vehicles = [2, 3, 5, 7] # pre trained class id's 2 for car and 3 for bike and 5->bus, 7-> truck vechiles\n",
        "results={}\n",
        "mot_tracker = Sort()\n",
        "frame_nmr = -1\n",
        "ret = True\n",
        "while ret:\n",
        "    frame_nmr += 1\n",
        "    ret, frame = video.read()\n",
        "    if ret and frame_nmr<10:\n",
        "        # results[frame_nmr] = {}\n",
        "\n",
        "        # detect vehicles\n",
        "        detections = coco_model(frame)[0]\n",
        "        detections_ = []\n",
        "        for detection in detections.boxes.data.tolist():\n",
        "            x1, y1, x2, y2, score, class_id = detection\n",
        "            if int(class_id) in vehicles:\n",
        "                detections_.append([x1, y1, x2, y2, score])\n",
        "\n",
        "        # track vehicles\n",
        "        track_ids = mot_tracker.update(np.asarray(detections_))\n",
        "\n",
        "        # detect license plates\n",
        "        license_plates = license_plate_detector(frame)[0]\n",
        "        for license_plate in license_plates.boxes.data.tolist():\n",
        "            x1, y1, x2, y2, score, class_id = license_plate\n",
        "\n",
        "            # assign license plate to car\n",
        "            xcar1, ycar1, xcar2, ycar2, car_id = get_car(license_plate, track_ids)\n",
        "\n",
        "            if car_id != -1:\n",
        "\n",
        "                # crop license plate\n",
        "            license_plate_crop = frame[int(y1):int(y2), int(x1): int(x2), :]\n",
        "\n",
        "                # process license plate\n",
        "            license_plate_crop_gray = cv2.cvtColor(license_plate_crop, cv2.COLOR_BGR2GRAY)\n",
        "            _, license_plate_crop_thresh = cv2.threshold(license_plate_crop_gray, 64, 255, cv2.THRESH_BINARY_INV)\n",
        "\n",
        "                # read license plate number\n",
        "                license_plate_text, license_plate_text_score = read_license_plate(license_plate_crop_thresh)\n",
        "\n",
        "                if license_plate_text is not None:\n",
        "                    results[frame_nmr][car_id] = {'car': {'bbox': [xcar1, ycar1, xcar2, ycar2]},\n",
        "                                                  'license_plate': {'bbox': [x1, y1, x2, y2],\n",
        "                                                                    'text': license_plate_text,\n",
        "                                                                    'bbox_score': score,\n",
        "                                                                    'text_score': license_plate_text_score}}\n",
        "\n",
        "# write results\n",
        "write_csv(results, './test.csv')"
      ],
      "metadata": {
        "id": "67t1yJi53UoB",
        "outputId": "9609ffb3-a887-4efa-d8b1-c0809a272a31",
        "colab": {
          "base_uri": "https://localhost:8080/",
          "height": 141
        }
      },
      "execution_count": 13,
      "outputs": [
        {
          "output_type": "error",
          "ename": "IndentationError",
          "evalue": "ignored",
          "traceback": [
            "\u001b[0;36m  File \u001b[0;32m\"<ipython-input-13-0a9b49eb84d0>\"\u001b[0;36m, line \u001b[0;32m34\u001b[0m\n\u001b[0;31m    license_plate_crop = frame[int(y1):int(y2), int(x1): int(x2), :]\u001b[0m\n\u001b[0m    ^\u001b[0m\n\u001b[0;31mIndentationError\u001b[0m\u001b[0;31m:\u001b[0m expected an indented block after 'if' statement on line 31\n"
          ]
        }
      ]
    },
    {
      "cell_type": "code",
      "source": [
        "def get_car(license_plate, vehicle_track_ids):\n",
        "    \"\"\"\n",
        "    Retrieve the vehicle coordinates and ID based on the license plate coordinates.\n",
        "\n",
        "    Args:\n",
        "        license_plate (tuple): Tuple containing the coordinates of the license plate (x1, y1, x2, y2, score, class_id).\n",
        "        vehicle_track_ids (list): List of vehicle track IDs and their corresponding coordinates.\n",
        "\n",
        "    Returns:\n",
        "        tuple: Tuple containing the vehicle coordinates (x1, y1, x2, y2) and ID.\n",
        "    \"\"\"\n",
        "    x1, y1, x2, y2, score, class_id = license_plate\n",
        "\n",
        "    foundIt = False\n",
        "    for j in range(len(vehicle_track_ids)):\n",
        "        xcar1, ycar1, xcar2, ycar2, car_id = vehicle_track_ids[j]\n",
        "\n",
        "        if x1 > xcar1 and y1 > ycar1 and x2 < xcar2 and y2 < ycar2:\n",
        "            car_indx = j\n",
        "            foundIt = True\n",
        "            break\n",
        "\n",
        "    if foundIt:\n",
        "        return vehicle_track_ids[car_indx]\n",
        "\n",
        "    return -1, -1, -1, -1, -1"
      ],
      "metadata": {
        "id": "YfmEyYUA59Ve"
      },
      "execution_count": 7,
      "outputs": []
    },
    {
      "cell_type": "code",
      "source": [
        "def read_license_plate(license_plate_crop):\n",
        "    \"\"\"\n",
        "    Read the license plate text from the given cropped image.\n",
        "\n",
        "    Args:\n",
        "        license_plate_crop (PIL.Image.Image): Cropped image containing the license plate.\n",
        "\n",
        "    Returns:\n",
        "        tuple: Tuple containing the formatted license plate text and its confidence score.\n",
        "    \"\"\"\n",
        "\n",
        "    detections = reader.readtext(license_plate_crop)\n",
        "\n",
        "    for detection in detections:\n",
        "        bbox, text, score = detection\n",
        "\n",
        "        text = text.upper().replace(' ', '')\n",
        "\n",
        "        if license_complies_format(text):\n",
        "            return format_license(text), score\n",
        "\n",
        "    return None, None"
      ],
      "metadata": {
        "id": "_EPbPl-9s6oa"
      },
      "execution_count": 9,
      "outputs": []
    },
    {
      "cell_type": "code",
      "source": [
        "def format_license(text):\n",
        "    \"\"\"\n",
        "    Format the license plate text by converting characters using the mapping dictionaries.\n",
        "\n",
        "    Args:\n",
        "        text (str): License plate text.\n",
        "\n",
        "    Returns:\n",
        "        str: Formatted license plate text.\n",
        "    \"\"\"\n",
        "    license_plate_ = ''\n",
        "    mapping = {0: dict_int_to_char, 1: dict_int_to_char, 4: dict_int_to_char, 5: dict_int_to_char, 6: dict_int_to_char,\n",
        "               2: dict_char_to_int, 3: dict_char_to_int}\n",
        "    for j in [0, 1, 2, 3, 4, 5, 6]:\n",
        "        if text[j] in mapping[j].keys():\n",
        "            license_plate_ += mapping[j][text[j]]\n",
        "        else:\n",
        "            license_plate_ += text[j]\n",
        "\n",
        "    return license_plate_"
      ],
      "metadata": {
        "id": "o3PiT0W7s-gv"
      },
      "execution_count": 10,
      "outputs": []
    },
    {
      "cell_type": "code",
      "source": [
        "import string\n",
        "import easyocr\n",
        "\n",
        "# Initialize the OCR reader\n",
        "reader = easyocr.Reader(['en'], gpu=False)\n",
        "\n",
        "# Mapping dictionaries for character conversion\n",
        "dict_char_to_int = {'O': '0',\n",
        "                    'I': '1',\n",
        "                    'J': '3',\n",
        "                    'A': '4',\n",
        "                    'G': '6',\n",
        "                    'S': '5'}\n",
        "\n",
        "dict_int_to_char = {'0': 'O',\n",
        "                    '1': 'I',\n",
        "                    '3': 'J',\n",
        "                    '4': 'A',\n",
        "                    '6': 'G',\n",
        "                    '5': 'S'}\n",
        "\n",
        "\n",
        "def write_csv(results, output_path):\n",
        "    \"\"\"\n",
        "    Write the results to a CSV file.\n",
        "\n",
        "    Args:\n",
        "        results (dict): Dictionary containing the results.\n",
        "        output_path (str): Path to the output CSV file.\n",
        "    \"\"\"\n",
        "    with open(output_path, 'w') as f:\n",
        "        f.write('{},{},{},{},{},{},{}\\n'.format('frame_nmr', 'car_id', 'car_bbox',\n",
        "                                                'license_plate_bbox', 'license_plate_bbox_score', 'license_number',\n",
        "                                                'license_number_score'))\n",
        "\n",
        "        for frame_nmr in results.keys():\n",
        "            for car_id in results[frame_nmr].keys():\n",
        "                print(results[frame_nmr][car_id])\n",
        "                if 'car' in results[frame_nmr][car_id].keys() and \\\n",
        "                   'license_plate' in results[frame_nmr][car_id].keys() and \\\n",
        "                   'text' in results[frame_nmr][car_id]['license_plate'].keys():\n",
        "                    f.write('{},{},{},{},{},{},{}\\n'.format(frame_nmr,\n",
        "                                                            car_id,\n",
        "                                                            '[{} {} {} {}]'.format(\n",
        "                                                                results[frame_nmr][car_id]['car']['bbox'][0],\n",
        "                                                                results[frame_nmr][car_id]['car']['bbox'][1],\n",
        "                                                                results[frame_nmr][car_id]['car']['bbox'][2],\n",
        "                                                                results[frame_nmr][car_id]['car']['bbox'][3]),\n",
        "                                                            '[{} {} {} {}]'.format(\n",
        "                                                                results[frame_nmr][car_id]['license_plate']['bbox'][0],\n",
        "                                                                results[frame_nmr][car_id]['license_plate']['bbox'][1],\n",
        "                                                                results[frame_nmr][car_id]['license_plate']['bbox'][2],\n",
        "                                                                results[frame_nmr][car_id]['license_plate']['bbox'][3]),\n",
        "                                                            results[frame_nmr][car_id]['license_plate']['bbox_score'],\n",
        "                                                            results[frame_nmr][car_id]['license_plate']['text'],\n",
        "                                                            results[frame_nmr][car_id]['license_plate']['text_score'])\n",
        "                            )\n",
        "        f.close()\n",
        "\n",
        "\n",
        "def license_complies_format(text):\n",
        "    \"\"\"\n",
        "    Check if the license plate text complies with the required format.\n",
        "\n",
        "    Args:\n",
        "        text (str): License plate text.\n",
        "\n",
        "    Returns:\n",
        "        bool: True if the license plate complies with the format, False otherwise.\n",
        "    \"\"\"\n",
        "    if len(text) != 7:\n",
        "        return False\n",
        "\n",
        "    if (text[0] in string.ascii_uppercase or text[0] in dict_int_to_char.keys()) and \\\n",
        "       (text[1] in string.ascii_uppercase or text[1] in dict_int_to_char.keys()) and \\\n",
        "       (text[2] in ['0', '1', '2', '3', '4', '5', '6', '7', '8', '9'] or text[2] in dict_char_to_int.keys()) and \\\n",
        "       (text[3] in ['0', '1', '2', '3', '4', '5', '6', '7', '8', '9'] or text[3] in dict_char_to_int.keys()) and \\\n",
        "       (text[4] in string.ascii_uppercase or text[4] in dict_int_to_char.keys()) and \\\n",
        "       (text[5] in string.ascii_uppercase or text[5] in dict_int_to_char.keys()) and \\\n",
        "       (text[6] in string.ascii_uppercase or text[6] in dict_int_to_char.keys()):\n",
        "        return True\n",
        "    else:\n",
        "        return False"
      ],
      "metadata": {
        "id": "oqcrzatNtHj1",
        "outputId": "b0106e2e-4f8f-4c00-a70f-f71921fb6d87",
        "colab": {
          "base_uri": "https://localhost:8080/"
        }
      },
      "execution_count": 11,
      "outputs": [
        {
          "output_type": "stream",
          "name": "stderr",
          "text": [
            "WARNING:easyocr.easyocr:Using CPU. Note: This module is much faster with a GPU.\n",
            "WARNING:easyocr.easyocr:Downloading detection model, please wait. This may take several minutes depending upon your network connection.\n"
          ]
        },
        {
          "output_type": "stream",
          "name": "stdout",
          "text": [
            "Progress: |██████████████████████████████████████████████████| 100.0% Complete"
          ]
        },
        {
          "output_type": "stream",
          "name": "stderr",
          "text": [
            "WARNING:easyocr.easyocr:Downloading recognition model, please wait. This may take several minutes depending upon your network connection.\n"
          ]
        },
        {
          "output_type": "stream",
          "name": "stdout",
          "text": [
            "Progress: |██████████████████████████████████████████████████| 100.0% Complete"
          ]
        }
      ]
    },
    {
      "cell_type": "code",
      "source": [
        "import ast\n",
        "\n",
        "import cv2\n",
        "import numpy as np\n",
        "import pandas as pd\n",
        "\n",
        "\n",
        "def draw_border(img, top_left, bottom_right, color=(0, 255, 0), thickness=10, line_length_x=200, line_length_y=200):\n",
        "    x1, y1 = top_left\n",
        "    x2, y2 = bottom_right\n",
        "\n",
        "    cv2.line(img, (x1, y1), (x1, y1 + line_length_y), color, thickness)  #-- top-left\n",
        "    cv2.line(img, (x1, y1), (x1 + line_length_x, y1), color, thickness)\n",
        "\n",
        "    cv2.line(img, (x1, y2), (x1, y2 - line_length_y), color, thickness)  #-- bottom-left\n",
        "    cv2.line(img, (x1, y2), (x1 + line_length_x, y2), color, thickness)\n",
        "\n",
        "    cv2.line(img, (x2, y1), (x2 - line_length_x, y1), color, thickness)  #-- top-right\n",
        "    cv2.line(img, (x2, y1), (x2, y1 + line_length_y), color, thickness)\n",
        "\n",
        "    cv2.line(img, (x2, y2), (x2, y2 - line_length_y), color, thickness)  #-- bottom-right\n",
        "    cv2.line(img, (x2, y2), (x2 - line_length_x, y2), color, thickness)\n",
        "\n",
        "    return img\n",
        "\n",
        "\n",
        "results = pd.read_csv('./test_interpolated.csv')\n",
        "\n",
        "# load video\n",
        "video_path = 'sample.mp4'\n",
        "cap = cv2.VideoCapture(video_path)\n",
        "\n",
        "fourcc = cv2.VideoWriter_fourcc(*'mp4v')  # Specify the codec\n",
        "fps = cap.get(cv2.CAP_PROP_FPS)\n",
        "width = int(cap.get(cv2.CAP_PROP_FRAME_WIDTH))\n",
        "height = int(cap.get(cv2.CAP_PROP_FRAME_HEIGHT))\n",
        "out = cv2.VideoWriter('./out.mp4', fourcc, fps, (width, height))\n",
        "\n",
        "license_plate = {}\n",
        "for car_id in np.unique(results['car_id']):\n",
        "    max_ = np.amax(results[results['car_id'] == car_id]['license_number_score'])\n",
        "    license_plate[car_id] = {'license_crop': None,\n",
        "                             'license_plate_number': results[(results['car_id'] == car_id) &\n",
        "                                                             (results['license_number_score'] == max_)]['license_number'].iloc[0]}\n",
        "    cap.set(cv2.CAP_PROP_POS_FRAMES, results[(results['car_id'] == car_id) &\n",
        "                                             (results['license_number_score'] == max_)]['frame_nmr'].iloc[0])\n",
        "    ret, frame = cap.read()\n",
        "\n",
        "    x1, y1, x2, y2 = ast.literal_eval(results[(results['car_id'] == car_id) &\n",
        "                                              (results['license_number_score'] == max_)]['license_plate_bbox'].iloc[0].replace('[ ', '[').replace('   ', ' ').replace('  ', ' ').replace(' ', ','))\n",
        "\n",
        "    license_crop = frame[int(y1):int(y2), int(x1):int(x2), :]\n",
        "    license_crop = cv2.resize(license_crop, (int((x2 - x1) * 400 / (y2 - y1)), 400))\n",
        "\n",
        "    license_plate[car_id]['license_crop'] = license_crop\n",
        "\n",
        "\n",
        "frame_nmr = -1\n",
        "\n",
        "cap.set(cv2.CAP_PROP_POS_FRAMES, 0)\n",
        "\n",
        "# read frames\n",
        "ret = True\n",
        "while ret:\n",
        "    ret, frame = cap.read()\n",
        "    frame_nmr += 1\n",
        "    if ret:\n",
        "        df_ = results[results['frame_nmr'] == frame_nmr]\n",
        "        for row_indx in range(len(df_)):\n",
        "            # draw car\n",
        "            car_x1, car_y1, car_x2, car_y2 = ast.literal_eval(df_.iloc[row_indx]['car_bbox'].replace('[ ', '[').replace('   ', ' ').replace('  ', ' ').replace(' ', ','))\n",
        "            draw_border(frame, (int(car_x1), int(car_y1)), (int(car_x2), int(car_y2)), (0, 255, 0), 25,\n",
        "                        line_length_x=200, line_length_y=200)\n",
        "\n",
        "            # draw license plate\n",
        "            x1, y1, x2, y2 = ast.literal_eval(df_.iloc[row_indx]['license_plate_bbox'].replace('[ ', '[').replace('   ', ' ').replace('  ', ' ').replace(' ', ','))\n",
        "            cv2.rectangle(frame, (int(x1), int(y1)), (int(x2), int(y2)), (0, 0, 255), 12)\n",
        "\n",
        "            # crop license plate\n",
        "            license_crop = license_plate[df_.iloc[row_indx]['car_id']]['license_crop']\n",
        "\n",
        "            H, W, _ = license_crop.shape\n",
        "\n",
        "            try:\n",
        "                frame[int(car_y1) - H - 100:int(car_y1) - 100,\n",
        "                      int((car_x2 + car_x1 - W) / 2):int((car_x2 + car_x1 + W) / 2), :] = license_crop\n",
        "\n",
        "                frame[int(car_y1) - H - 400:int(car_y1) - H - 100,\n",
        "                      int((car_x2 + car_x1 - W) / 2):int((car_x2 + car_x1 + W) / 2), :] = (255, 255, 255)\n",
        "\n",
        "                (text_width, text_height), _ = cv2.getTextSize(\n",
        "                    license_plate[df_.iloc[row_indx]['car_id']]['license_plate_number'],\n",
        "                    cv2.FONT_HERSHEY_SIMPLEX,\n",
        "                    4.3,\n",
        "                    17)\n",
        "\n",
        "                cv2.putText(frame,\n",
        "                            license_plate[df_.iloc[row_indx]['car_id']]['license_plate_number'],\n",
        "                            (int((car_x2 + car_x1 - text_width) / 2), int(car_y1 - H - 250 + (text_height / 2))),\n",
        "                            cv2.FONT_HERSHEY_SIMPLEX,\n",
        "                            4.3,\n",
        "                            (0, 0, 0),\n",
        "                            17)\n",
        "\n",
        "            except:\n",
        "                pass\n",
        "\n",
        "        out.write(frame)\n",
        "        frame = cv2.resize(frame, (1280, 720))\n",
        "\n",
        "        # cv2.imshow('frame', frame)\n",
        "        # cv2.waitKey(0)\n",
        "\n",
        "out.release()\n",
        "cap.release()\n"
      ],
      "metadata": {
        "id": "5J1jh_vRtUxD",
        "outputId": "754e12f8-e379-4c04-a62f-b81ba22df7cf",
        "colab": {
          "base_uri": "https://localhost:8080/",
          "height": 408
        }
      },
      "execution_count": 12,
      "outputs": [
        {
          "output_type": "error",
          "ename": "FileNotFoundError",
          "evalue": "ignored",
          "traceback": [
            "\u001b[0;31m---------------------------------------------------------------------------\u001b[0m",
            "\u001b[0;31mFileNotFoundError\u001b[0m                         Traceback (most recent call last)",
            "\u001b[0;32m<ipython-input-12-902f7d7a8bf6>\u001b[0m in \u001b[0;36m<cell line: 27>\u001b[0;34m()\u001b[0m\n\u001b[1;32m     25\u001b[0m \u001b[0;34m\u001b[0m\u001b[0m\n\u001b[1;32m     26\u001b[0m \u001b[0;34m\u001b[0m\u001b[0m\n\u001b[0;32m---> 27\u001b[0;31m \u001b[0mresults\u001b[0m \u001b[0;34m=\u001b[0m \u001b[0mpd\u001b[0m\u001b[0;34m.\u001b[0m\u001b[0mread_csv\u001b[0m\u001b[0;34m(\u001b[0m\u001b[0;34m'./test_interpolated.csv'\u001b[0m\u001b[0;34m)\u001b[0m\u001b[0;34m\u001b[0m\u001b[0;34m\u001b[0m\u001b[0m\n\u001b[0m\u001b[1;32m     28\u001b[0m \u001b[0;34m\u001b[0m\u001b[0m\n\u001b[1;32m     29\u001b[0m \u001b[0;31m# load video\u001b[0m\u001b[0;34m\u001b[0m\u001b[0;34m\u001b[0m\u001b[0m\n",
            "\u001b[0;32m/usr/local/lib/python3.10/dist-packages/pandas/io/parsers/readers.py\u001b[0m in \u001b[0;36mread_csv\u001b[0;34m(filepath_or_buffer, sep, delimiter, header, names, index_col, usecols, dtype, engine, converters, true_values, false_values, skipinitialspace, skiprows, skipfooter, nrows, na_values, keep_default_na, na_filter, verbose, skip_blank_lines, parse_dates, infer_datetime_format, keep_date_col, date_parser, date_format, dayfirst, cache_dates, iterator, chunksize, compression, thousands, decimal, lineterminator, quotechar, quoting, doublequote, escapechar, comment, encoding, encoding_errors, dialect, on_bad_lines, delim_whitespace, low_memory, memory_map, float_precision, storage_options, dtype_backend)\u001b[0m\n\u001b[1;32m    910\u001b[0m     \u001b[0mkwds\u001b[0m\u001b[0;34m.\u001b[0m\u001b[0mupdate\u001b[0m\u001b[0;34m(\u001b[0m\u001b[0mkwds_defaults\u001b[0m\u001b[0;34m)\u001b[0m\u001b[0;34m\u001b[0m\u001b[0;34m\u001b[0m\u001b[0m\n\u001b[1;32m    911\u001b[0m \u001b[0;34m\u001b[0m\u001b[0m\n\u001b[0;32m--> 912\u001b[0;31m     \u001b[0;32mreturn\u001b[0m \u001b[0m_read\u001b[0m\u001b[0;34m(\u001b[0m\u001b[0mfilepath_or_buffer\u001b[0m\u001b[0;34m,\u001b[0m \u001b[0mkwds\u001b[0m\u001b[0;34m)\u001b[0m\u001b[0;34m\u001b[0m\u001b[0;34m\u001b[0m\u001b[0m\n\u001b[0m\u001b[1;32m    913\u001b[0m \u001b[0;34m\u001b[0m\u001b[0m\n\u001b[1;32m    914\u001b[0m \u001b[0;34m\u001b[0m\u001b[0m\n",
            "\u001b[0;32m/usr/local/lib/python3.10/dist-packages/pandas/io/parsers/readers.py\u001b[0m in \u001b[0;36m_read\u001b[0;34m(filepath_or_buffer, kwds)\u001b[0m\n\u001b[1;32m    575\u001b[0m \u001b[0;34m\u001b[0m\u001b[0m\n\u001b[1;32m    576\u001b[0m     \u001b[0;31m# Create the parser.\u001b[0m\u001b[0;34m\u001b[0m\u001b[0;34m\u001b[0m\u001b[0m\n\u001b[0;32m--> 577\u001b[0;31m     \u001b[0mparser\u001b[0m \u001b[0;34m=\u001b[0m \u001b[0mTextFileReader\u001b[0m\u001b[0;34m(\u001b[0m\u001b[0mfilepath_or_buffer\u001b[0m\u001b[0;34m,\u001b[0m \u001b[0;34m**\u001b[0m\u001b[0mkwds\u001b[0m\u001b[0;34m)\u001b[0m\u001b[0;34m\u001b[0m\u001b[0;34m\u001b[0m\u001b[0m\n\u001b[0m\u001b[1;32m    578\u001b[0m \u001b[0;34m\u001b[0m\u001b[0m\n\u001b[1;32m    579\u001b[0m     \u001b[0;32mif\u001b[0m \u001b[0mchunksize\u001b[0m \u001b[0;32mor\u001b[0m \u001b[0miterator\u001b[0m\u001b[0;34m:\u001b[0m\u001b[0;34m\u001b[0m\u001b[0;34m\u001b[0m\u001b[0m\n",
            "\u001b[0;32m/usr/local/lib/python3.10/dist-packages/pandas/io/parsers/readers.py\u001b[0m in \u001b[0;36m__init__\u001b[0;34m(self, f, engine, **kwds)\u001b[0m\n\u001b[1;32m   1405\u001b[0m \u001b[0;34m\u001b[0m\u001b[0m\n\u001b[1;32m   1406\u001b[0m         \u001b[0mself\u001b[0m\u001b[0;34m.\u001b[0m\u001b[0mhandles\u001b[0m\u001b[0;34m:\u001b[0m \u001b[0mIOHandles\u001b[0m \u001b[0;34m|\u001b[0m \u001b[0;32mNone\u001b[0m \u001b[0;34m=\u001b[0m \u001b[0;32mNone\u001b[0m\u001b[0;34m\u001b[0m\u001b[0;34m\u001b[0m\u001b[0m\n\u001b[0;32m-> 1407\u001b[0;31m         \u001b[0mself\u001b[0m\u001b[0;34m.\u001b[0m\u001b[0m_engine\u001b[0m \u001b[0;34m=\u001b[0m \u001b[0mself\u001b[0m\u001b[0;34m.\u001b[0m\u001b[0m_make_engine\u001b[0m\u001b[0;34m(\u001b[0m\u001b[0mf\u001b[0m\u001b[0;34m,\u001b[0m \u001b[0mself\u001b[0m\u001b[0;34m.\u001b[0m\u001b[0mengine\u001b[0m\u001b[0;34m)\u001b[0m\u001b[0;34m\u001b[0m\u001b[0;34m\u001b[0m\u001b[0m\n\u001b[0m\u001b[1;32m   1408\u001b[0m \u001b[0;34m\u001b[0m\u001b[0m\n\u001b[1;32m   1409\u001b[0m     \u001b[0;32mdef\u001b[0m \u001b[0mclose\u001b[0m\u001b[0;34m(\u001b[0m\u001b[0mself\u001b[0m\u001b[0;34m)\u001b[0m \u001b[0;34m->\u001b[0m \u001b[0;32mNone\u001b[0m\u001b[0;34m:\u001b[0m\u001b[0;34m\u001b[0m\u001b[0;34m\u001b[0m\u001b[0m\n",
            "\u001b[0;32m/usr/local/lib/python3.10/dist-packages/pandas/io/parsers/readers.py\u001b[0m in \u001b[0;36m_make_engine\u001b[0;34m(self, f, engine)\u001b[0m\n\u001b[1;32m   1659\u001b[0m                 \u001b[0;32mif\u001b[0m \u001b[0;34m\"b\"\u001b[0m \u001b[0;32mnot\u001b[0m \u001b[0;32min\u001b[0m \u001b[0mmode\u001b[0m\u001b[0;34m:\u001b[0m\u001b[0;34m\u001b[0m\u001b[0;34m\u001b[0m\u001b[0m\n\u001b[1;32m   1660\u001b[0m                     \u001b[0mmode\u001b[0m \u001b[0;34m+=\u001b[0m \u001b[0;34m\"b\"\u001b[0m\u001b[0;34m\u001b[0m\u001b[0;34m\u001b[0m\u001b[0m\n\u001b[0;32m-> 1661\u001b[0;31m             self.handles = get_handle(\n\u001b[0m\u001b[1;32m   1662\u001b[0m                 \u001b[0mf\u001b[0m\u001b[0;34m,\u001b[0m\u001b[0;34m\u001b[0m\u001b[0;34m\u001b[0m\u001b[0m\n\u001b[1;32m   1663\u001b[0m                 \u001b[0mmode\u001b[0m\u001b[0;34m,\u001b[0m\u001b[0;34m\u001b[0m\u001b[0;34m\u001b[0m\u001b[0m\n",
            "\u001b[0;32m/usr/local/lib/python3.10/dist-packages/pandas/io/common.py\u001b[0m in \u001b[0;36mget_handle\u001b[0;34m(path_or_buf, mode, encoding, compression, memory_map, is_text, errors, storage_options)\u001b[0m\n\u001b[1;32m    857\u001b[0m         \u001b[0;32mif\u001b[0m \u001b[0mioargs\u001b[0m\u001b[0;34m.\u001b[0m\u001b[0mencoding\u001b[0m \u001b[0;32mand\u001b[0m \u001b[0;34m\"b\"\u001b[0m \u001b[0;32mnot\u001b[0m \u001b[0;32min\u001b[0m \u001b[0mioargs\u001b[0m\u001b[0;34m.\u001b[0m\u001b[0mmode\u001b[0m\u001b[0;34m:\u001b[0m\u001b[0;34m\u001b[0m\u001b[0;34m\u001b[0m\u001b[0m\n\u001b[1;32m    858\u001b[0m             \u001b[0;31m# Encoding\u001b[0m\u001b[0;34m\u001b[0m\u001b[0;34m\u001b[0m\u001b[0m\n\u001b[0;32m--> 859\u001b[0;31m             handle = open(\n\u001b[0m\u001b[1;32m    860\u001b[0m                 \u001b[0mhandle\u001b[0m\u001b[0;34m,\u001b[0m\u001b[0;34m\u001b[0m\u001b[0;34m\u001b[0m\u001b[0m\n\u001b[1;32m    861\u001b[0m                 \u001b[0mioargs\u001b[0m\u001b[0;34m.\u001b[0m\u001b[0mmode\u001b[0m\u001b[0;34m,\u001b[0m\u001b[0;34m\u001b[0m\u001b[0;34m\u001b[0m\u001b[0m\n",
            "\u001b[0;31mFileNotFoundError\u001b[0m: [Errno 2] No such file or directory: './test_interpolated.csv'"
          ]
        }
      ]
    }
  ],
  "metadata": {
    "colab": {
      "name": "Welcome To Colaboratory",
      "provenance": [],
      "include_colab_link": true
    },
    "kernelspec": {
      "display_name": "Python 3",
      "name": "python3"
    }
  },
  "nbformat": 4,
  "nbformat_minor": 0
}